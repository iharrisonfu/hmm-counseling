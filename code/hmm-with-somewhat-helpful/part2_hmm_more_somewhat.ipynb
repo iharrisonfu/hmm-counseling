{
 "cells": [
  {
   "cell_type": "markdown",
   "id": "8c0ec391",
   "metadata": {},
   "source": [
    "# data cleaning"
   ]
  },
  {
   "cell_type": "code",
   "execution_count": 1,
   "id": "b2958397",
   "metadata": {},
   "outputs": [],
   "source": [
    "from sklearn.decomposition import LatentDirichletAllocation\n",
    "from sklearn.feature_extraction.text import CountVectorizer\n",
    "from sklearn.feature_extraction.text import TfidfVectorizer,  TfidfTransformer\n",
    "import jieba\n",
    "from pycantonese.word_segmentation import Segmenter\n",
    "import pycantonese\n",
    "import pandas as pd\n",
    "from gensim.models import Word2Vec\n",
    "from sklearn.metrics.pairwise import cosine_similarity\n",
    "import numpy as np\n",
    "import pickle\n",
    "import re\n",
    "\n",
    "import warnings\n",
    "warnings.filterwarnings('ignore')"
   ]
  },
  {
   "cell_type": "code",
   "execution_count": 2,
   "id": "e59fbbb6",
   "metadata": {
    "scrolled": true
   },
   "outputs": [],
   "source": [
    "df_msg_valid = pd.read_excel('../../data/good_bad_somewhat_chat_history.xlsx')"
   ]
  },
  {
   "cell_type": "code",
   "execution_count": 3,
   "id": "eebff918",
   "metadata": {},
   "outputs": [],
   "source": [
    "df_pp_count = df_msg_valid.drop_duplicates(subset=['conversationId'])[['conversationId', 'max_pp']]\n",
    "df_pp_count_des = df_pp_count.describe()"
   ]
  },
  {
   "cell_type": "code",
   "execution_count": 4,
   "id": "df761056",
   "metadata": {},
   "outputs": [],
   "source": [
    "import seaborn as sns\n",
    "import matplotlib.pyplot as plt\n",
    "plt.rcParams['font.sans-serif']=['Microsoft JhengHei']"
   ]
  },
  {
   "cell_type": "code",
   "execution_count": 5,
   "id": "708b498d",
   "metadata": {},
   "outputs": [
    {
     "data": {
      "text/plain": [
       "<seaborn.axisgrid.FacetGrid at 0x15e4fef98d0>"
      ]
     },
     "execution_count": 5,
     "metadata": {},
     "output_type": "execute_result"
    },
    {
     "data": {
      "image/png": "[encoded data removed]",
      "text/plain": [
       "<Figure size 500x500 with 1 Axes>"
      ]
     },
     "metadata": {},
     "output_type": "display_data"
    }
   ],
   "source": [
    "sns.displot(df_pp_count, x='max_pp')"
   ]
  },
  {
   "cell_type": "code",
   "execution_count": 6,
   "id": "cddae55b",
   "metadata": {},
   "outputs": [
    {
     "name": "stdout",
     "output_type": "stream",
     "text": [
      "129.0\n"
     ]
    }
   ],
   "source": [
    "# calculate Interquantile Range\n",
    "print(df_pp_count_des.loc['75%','max_pp']+1.5*(df_pp_count_des.loc['75%','max_pp']-df_pp_count_des.loc['25%','max_pp']))"
   ]
  },
  {
   "cell_type": "code",
   "execution_count": 7,
   "id": "64d26a0b",
   "metadata": {},
   "outputs": [
    {
     "data": {
      "text/plain": [
       "3615"
      ]
     },
     "execution_count": 7,
     "metadata": {},
     "output_type": "execute_result"
    }
   ],
   "source": [
    "#select sessions with message count larger than 4 to ensure data balance\n",
    "valid_convId_pp = df_pp_count[(df_pp_count['max_pp']>=4)&(df_pp_count['max_pp']<=129)]['conversationId'].tolist()\n",
    "len(valid_convId_pp)"
   ]
  },
  {
   "cell_type": "code",
   "execution_count": 9,
   "id": "8e2453e5",
   "metadata": {
    "scrolled": true
   },
   "outputs": [],
   "source": [
    "df_pp = df_msg_valid[(df_msg_valid['conversationId'].isin(valid_convId_pp))].drop_duplicates(subset=['conversationId'])"
   ]
  },
  {
   "cell_type": "code",
   "execution_count": 10,
   "id": "f79b3946",
   "metadata": {},
   "outputs": [
    {
     "data": {
      "text/plain": [
       "<seaborn.axisgrid.FacetGrid at 0x15e5b5f02b0>"
      ]
     },
     "execution_count": 10,
     "metadata": {},
     "output_type": "execute_result"
    },
    {
     "data": {
      "image/png": "[encoded data removed]",
      "text/plain": [
       "<Figure size 500x500 with 1 Axes>"
      ]
     },
     "metadata": {},
     "output_type": "display_data"
    }
   ],
   "source": [
    "sns.displot(df_pp, x='max_pp')"
   ]
  },
  {
   "cell_type": "code",
   "execution_count": 11,
   "id": "244ddb5f",
   "metadata": {
    "scrolled": true
   },
   "outputs": [],
   "source": [
    "df_msg_validd = df_msg_valid[(df_msg_valid['conversationId'].isin(valid_convId_pp))]\n",
    "df_msg_validd.reset_index(inplace=True, drop=True)"
   ]
  },
  {
   "cell_type": "code",
   "execution_count": 12,
   "id": "463e68b7",
   "metadata": {},
   "outputs": [
    {
     "data": {
      "text/plain": [
       "good    3020\n",
       "bad      595\n",
       "Name: quality, dtype: int64"
      ]
     },
     "execution_count": 12,
     "metadata": {},
     "output_type": "execute_result"
    }
   ],
   "source": [
    "good_bad_count = df_msg_validd.drop_duplicates(subset=['conversationId'])\n",
    "good_bad_count['quality'].value_counts()"
   ]
  },
  {
   "cell_type": "markdown",
   "id": "550ab111",
   "metadata": {},
   "source": [
    "# data processing"
   ]
  },
  {
   "cell_type": "code",
   "execution_count": 16,
   "id": "569516fd",
   "metadata": {
    "scrolled": true
   },
   "outputs": [],
   "source": [
    "df_msg_valid = df_msg_validd.copy()"
   ]
  },
  {
   "cell_type": "code",
   "execution_count": 17,
   "id": "d1793dbd",
   "metadata": {
    "scrolled": true
   },
   "outputs": [],
   "source": [
    "df_msg_valid = df_msg_valid[(df_msg_valid['conversationId'].isin(good_bad_count[(good_bad_count['quality'] == 'good')]['conversationId'].tolist()))]\n",
    "df_msg_valid.reset_index(inplace=True, drop=True)"
   ]
  },
  {
   "cell_type": "code",
   "execution_count": 19,
   "id": "8d87b4ba",
   "metadata": {
    "scrolled": true
   },
   "outputs": [],
   "source": [
    "df_msg_valid['msg_token_list'] = None\n",
    "for i in range(len(df_msg_valid['msg_token'])):\n",
    "    df_msg_valid['msg_token_list'][i] = df_msg_valid['msg_token'][i].split(' ')"
   ]
  },
  {
   "cell_type": "code",
   "execution_count": 20,
   "id": "0a30f59a",
   "metadata": {},
   "outputs": [],
   "source": [
    "df_msg_valid=df_msg_valid.assign(pp_percentage=df_msg_valid['pp']/df_msg_valid['max_pp'])"
   ]
  },
  {
   "cell_type": "code",
   "execution_count": 21,
   "id": "4951c0e8",
   "metadata": {
    "scrolled": true
   },
   "outputs": [],
   "source": [
    "# split session into equal fifth\n",
    "def df_label_category(df, cat):\n",
    "    labels = np.arange(len(cat)-1)\n",
    "    category = [0, 0.2, 0.4, 0.6, 0.8, 1.0]\n",
    "    df['pp_category'] = pd.cut(df['pp_percentage'], labels=labels, bins=category, include_lowest=True)\n",
    "    return df\n",
    "\n",
    "n_stage=6\n",
    "df_msg_valid=df_msg_valid.pipe(df_label_category, np.linspace(0, 1 , n_stage) )"
   ]
  },
  {
   "cell_type": "code",
   "execution_count": 22,
   "id": "a787ad7e",
   "metadata": {},
   "outputs": [],
   "source": [
    "df_msg_valid['msg_token_list'] = None\n",
    "for i in range(len(df_msg_valid['msg_token'])):\n",
    "    df_msg_valid['msg_token_list'][i] = df_msg_valid['msg_token'][i].split(' ')"
   ]
  },
  {
   "cell_type": "code",
   "execution_count": 23,
   "id": "3c6dfd3b",
   "metadata": {},
   "outputs": [],
   "source": [
    "df_msg_valid = df_msg_valid[['conversationId', 'from_whom', 'datetime', 'msg_replace', 'msg_token', 'msg_token_list', 'pp', 'max_pp', 'pp_percentage', 'pp_category']]"
   ]
  },
  {
   "cell_type": "code",
   "execution_count": 24,
   "id": "1fb2ede7",
   "metadata": {
    "scrolled": true
   },
   "outputs": [],
   "source": [
    "for i in range(len(df_msg_valid['msg_token_list'])):\n",
    "    if df_msg_valid['from_whom'][i] == True:\n",
    "        for j in range(len(df_msg_valid['msg_token_list'][i])):\n",
    "            df_msg_valid['msg_token_list'][i][j] = 'H' + df_msg_valid['msg_token_list'][i][j]\n",
    "    else:\n",
    "        for j in range(len(df_msg_valid['msg_token_list'][i])):\n",
    "            df_msg_valid['msg_token_list'][i][j] = 'C' + df_msg_valid['msg_token_list'][i][j]"
   ]
  },
  {
   "cell_type": "code",
   "execution_count": 25,
   "id": "9040648c",
   "metadata": {
    "scrolled": true
   },
   "outputs": [],
   "source": [
    "df_msg_valid['msg_token'] = [' '.join(i) for i in df_msg_valid['msg_token_list']]"
   ]
  },
  {
   "cell_type": "code",
   "execution_count": 26,
   "id": "737908b1",
   "metadata": {},
   "outputs": [],
   "source": [
    "df_msg_valid['pp_category'] = df_msg_valid['pp_category'].fillna(0)"
   ]
  },
  {
   "cell_type": "markdown",
   "id": "3a3ff41e",
   "metadata": {},
   "source": [
    "# hmm training"
   ]
  },
  {
   "cell_type": "markdown",
   "id": "78513f8a",
   "metadata": {},
   "source": [
    "## message-based tf-idf"
   ]
  },
  {
   "cell_type": "code",
   "execution_count": 27,
   "id": "ae69d521",
   "metadata": {},
   "outputs": [],
   "source": [
    "# Instantiate TfidfVectorizer with custom stopwords\n",
    "tfidf_vectorizer = TfidfVectorizer(token_pattern='\\\\b\\\\w+\\\\b', min_df=2)\n",
    "\n",
    "# Fit and transform the data\n",
    "tfidf_matrix = tfidf_vectorizer.fit_transform(df_msg_valid['msg_token'])\n",
    "\n",
    "# Get feature names and their corresponding TF-IDF scores\n",
    "feature_names = tfidf_vectorizer.get_feature_names_out()\n",
    "tfidf_scores = np.asarray(tfidf_matrix.sum(axis=0)).flatten()\n",
    "\n",
    "# Create a DataFrame for TF-IDF scores\n",
    "tfidf_df = pd.DataFrame({'word': feature_names, 'score': tfidf_scores})"
   ]
  },
  {
   "cell_type": "code",
   "execution_count": 28,
   "id": "773b2a80",
   "metadata": {},
   "outputs": [
    {
     "data": {
      "text/plain": [
       "count    29170.000000\n",
       "mean        13.634451\n",
       "std         58.476113\n",
       "min          0.099001\n",
       "25%          1.436776\n",
       "50%          2.524794\n",
       "75%          6.656495\n",
       "max       2369.742349\n",
       "Name: score, dtype: float64"
      ]
     },
     "execution_count": 28,
     "metadata": {},
     "output_type": "execute_result"
    }
   ],
   "source": [
    "tfidf_df['score'].describe()"
   ]
  },
  {
   "cell_type": "code",
   "execution_count": 29,
   "id": "89960bb4",
   "metadata": {},
   "outputs": [],
   "source": [
    "# Filter based on a score threshold (3rd quantile)\n",
    "threshold = tfidf_df['score'].describe()['75%']\n",
    "\n",
    "low_tfidf_words = list(tfidf_df.loc[tfidf_df['score']<threshold]['word'])"
   ]
  },
  {
   "cell_type": "code",
   "execution_count": 30,
   "id": "fb4fe030",
   "metadata": {},
   "outputs": [],
   "source": [
    "cv = CountVectorizer(min_df = 2, max_df = 1.0, token_pattern ='\\\\b\\\\w+\\\\b', stop_words = low_tfidf_words) #+list(low_freq_words)\n",
    "cv.fit(df_msg_valid['msg_token'])\n",
    "X = cv.transform(df_msg_valid['msg_token'])"
   ]
  },
  {
   "cell_type": "code",
   "execution_count": 31,
   "id": "cfb21769",
   "metadata": {},
   "outputs": [
    {
     "data": {
      "text/plain": [
       "<242142x7293 sparse matrix of type '<class 'numpy.int64'>'\n",
       "\twith 702209 stored elements in Compressed Sparse Row format>"
      ]
     },
     "execution_count": 31,
     "metadata": {},
     "output_type": "execute_result"
    }
   ],
   "source": [
    "X"
   ]
  },
  {
   "cell_type": "markdown",
   "id": "637a1615",
   "metadata": {},
   "source": [
    "## remove messages with no bags-of-words"
   ]
  },
  {
   "cell_type": "code",
   "execution_count": 32,
   "id": "e2735dc8",
   "metadata": {},
   "outputs": [
    {
     "name": "stdout",
     "output_type": "stream",
     "text": [
      "231420 out of 242142 BoW counts has greater than 0 occurence\n",
      "160653 out of 242142 BoW counts has greater than 1 occurence\n",
      "105558 out of 242142 BoW counts has greater than 2 occurence\n",
      "68928 out of 242142 BoW counts has greater than 3 occurence\n",
      "44976 out of 242142 BoW counts has greater than 4 occurence\n",
      "30381 out of 242142 BoW counts has greater than 5 occurence\n",
      "21009 out of 242142 BoW counts has greater than 6 occurence\n",
      "14820 out of 242142 BoW counts has greater than 7 occurence\n",
      "10617 out of 242142 BoW counts has greater than 8 occurence\n",
      "7775 out of 242142 BoW counts has greater than 9 occurence\n",
      "5623 out of 242142 BoW counts has greater than 10 occurence\n",
      "4236 out of 242142 BoW counts has greater than 11 occurence\n",
      "3243 out of 242142 BoW counts has greater than 12 occurence\n",
      "2471 out of 242142 BoW counts has greater than 13 occurence\n",
      "1929 out of 242142 BoW counts has greater than 14 occurence\n",
      "1546 out of 242142 BoW counts has greater than 15 occurence\n",
      "1265 out of 242142 BoW counts has greater than 16 occurence\n",
      "1039 out of 242142 BoW counts has greater than 17 occurence\n",
      "875 out of 242142 BoW counts has greater than 18 occurence\n",
      "759 out of 242142 BoW counts has greater than 19 occurence\n",
      "624 out of 242142 BoW counts has greater than 20 occurence\n"
     ]
    }
   ],
   "source": [
    "for i in range(21):\n",
    "    print(\"%s out of %s BoW counts has greater than %s occurence\"%((X.sum(axis=1)>i).sum(axis=0)[0,0], X.shape[0],i))"
   ]
  },
  {
   "cell_type": "code",
   "execution_count": 33,
   "id": "36bd417c",
   "metadata": {},
   "outputs": [],
   "source": [
    "## Remove conversation without any BoW inside\n",
    "threshold = 1\n",
    "X_final = X[np.where(X.sum(axis=1) > threshold)[0],:]\n",
    "df_msg_valid_final = df_msg_valid.iloc[np.where(X.sum(axis=1) > threshold)[0],:]\n",
    "df_msg_valid_final.reset_index(inplace = True, drop = True)"
   ]
  },
  {
   "cell_type": "code",
   "execution_count": 34,
   "id": "5e9462bb",
   "metadata": {},
   "outputs": [
    {
     "data": {
      "text/plain": [
       "<160653x7293 sparse matrix of type '<class 'numpy.int64'>'\n",
       "\twith 631442 stored elements in Compressed Sparse Row format>"
      ]
     },
     "execution_count": 34,
     "metadata": {},
     "output_type": "execute_result"
    }
   ],
   "source": [
    "X_final"
   ]
  },
  {
   "cell_type": "code",
   "execution_count": 35,
   "id": "51c4ece6",
   "metadata": {},
   "outputs": [],
   "source": [
    "final_conv_msg_count = pd.DataFrame(df_msg_valid_final['conversationId'].value_counts())\n",
    "final_conv_msg_count.reset_index(inplace=True,drop=False)"
   ]
  },
  {
   "cell_type": "markdown",
   "id": "6ae66d60",
   "metadata": {},
   "source": [
    "# prepare emission probability matrix"
   ]
  },
  {
   "cell_type": "code",
   "execution_count": 36,
   "id": "aa5af1eb",
   "metadata": {},
   "outputs": [],
   "source": [
    "emission=pd.DataFrame(X_final.toarray())\n",
    "df_msg_valid_final.pp_category=df_msg_valid_final.pp_category.astype(int)\n",
    "emission[\"stage\"]=df_msg_valid_final.pp_category"
   ]
  },
  {
   "cell_type": "code",
   "execution_count": 37,
   "id": "06aa79ba",
   "metadata": {},
   "outputs": [],
   "source": [
    "emission=emission.groupby('stage').sum()"
   ]
  },
  {
   "cell_type": "code",
   "execution_count": 38,
   "id": "9b323524",
   "metadata": {},
   "outputs": [],
   "source": [
    "emission+=1"
   ]
  },
  {
   "cell_type": "code",
   "execution_count": 39,
   "id": "14c019b9",
   "metadata": {},
   "outputs": [
    {
     "data": {
      "text/html": [
       "<div>\n",
       "<style scoped>\n",
       "    .dataframe tbody tr th:only-of-type {\n",
       "        vertical-align: middle;\n",
       "    }\n",
       "\n",
       "    .dataframe tbody tr th {\n",
       "        vertical-align: top;\n",
       "    }\n",
       "\n",
       "    .dataframe thead th {\n",
       "        text-align: right;\n",
       "    }\n",
       "</style>\n",
       "<table border=\"1\" class=\"dataframe\">\n",
       "  <thead>\n",
       "    <tr style=\"text-align: right;\">\n",
       "      <th></th>\n",
       "      <th>0</th>\n",
       "      <th>1</th>\n",
       "      <th>2</th>\n",
       "      <th>3</th>\n",
       "      <th>4</th>\n",
       "      <th>5</th>\n",
       "      <th>6</th>\n",
       "      <th>7</th>\n",
       "      <th>8</th>\n",
       "      <th>9</th>\n",
       "      <th>...</th>\n",
       "      <th>7283</th>\n",
       "      <th>7284</th>\n",
       "      <th>7285</th>\n",
       "      <th>7286</th>\n",
       "      <th>7287</th>\n",
       "      <th>7288</th>\n",
       "      <th>7289</th>\n",
       "      <th>7290</th>\n",
       "      <th>7291</th>\n",
       "      <th>7292</th>\n",
       "    </tr>\n",
       "    <tr>\n",
       "      <th>stage</th>\n",
       "      <th></th>\n",
       "      <th></th>\n",
       "      <th></th>\n",
       "      <th></th>\n",
       "      <th></th>\n",
       "      <th></th>\n",
       "      <th></th>\n",
       "      <th></th>\n",
       "      <th></th>\n",
       "      <th></th>\n",
       "      <th></th>\n",
       "      <th></th>\n",
       "      <th></th>\n",
       "      <th></th>\n",
       "      <th></th>\n",
       "      <th></th>\n",
       "      <th></th>\n",
       "      <th></th>\n",
       "      <th></th>\n",
       "      <th></th>\n",
       "      <th></th>\n",
       "    </tr>\n",
       "  </thead>\n",
       "  <tbody>\n",
       "    <tr>\n",
       "      <th>0</th>\n",
       "      <td>23</td>\n",
       "      <td>4</td>\n",
       "      <td>6</td>\n",
       "      <td>39</td>\n",
       "      <td>36</td>\n",
       "      <td>8</td>\n",
       "      <td>1</td>\n",
       "      <td>4</td>\n",
       "      <td>2</td>\n",
       "      <td>1</td>\n",
       "      <td>...</td>\n",
       "      <td>37</td>\n",
       "      <td>4</td>\n",
       "      <td>5</td>\n",
       "      <td>33</td>\n",
       "      <td>3</td>\n",
       "      <td>3</td>\n",
       "      <td>1</td>\n",
       "      <td>13</td>\n",
       "      <td>19</td>\n",
       "      <td>7</td>\n",
       "    </tr>\n",
       "    <tr>\n",
       "      <th>1</th>\n",
       "      <td>28</td>\n",
       "      <td>3</td>\n",
       "      <td>6</td>\n",
       "      <td>58</td>\n",
       "      <td>80</td>\n",
       "      <td>11</td>\n",
       "      <td>2</td>\n",
       "      <td>5</td>\n",
       "      <td>2</td>\n",
       "      <td>1</td>\n",
       "      <td>...</td>\n",
       "      <td>8</td>\n",
       "      <td>9</td>\n",
       "      <td>9</td>\n",
       "      <td>29</td>\n",
       "      <td>7</td>\n",
       "      <td>1</td>\n",
       "      <td>4</td>\n",
       "      <td>21</td>\n",
       "      <td>30</td>\n",
       "      <td>5</td>\n",
       "    </tr>\n",
       "    <tr>\n",
       "      <th>2</th>\n",
       "      <td>28</td>\n",
       "      <td>5</td>\n",
       "      <td>7</td>\n",
       "      <td>60</td>\n",
       "      <td>56</td>\n",
       "      <td>10</td>\n",
       "      <td>3</td>\n",
       "      <td>5</td>\n",
       "      <td>6</td>\n",
       "      <td>1</td>\n",
       "      <td>...</td>\n",
       "      <td>11</td>\n",
       "      <td>4</td>\n",
       "      <td>11</td>\n",
       "      <td>29</td>\n",
       "      <td>3</td>\n",
       "      <td>6</td>\n",
       "      <td>2</td>\n",
       "      <td>10</td>\n",
       "      <td>28</td>\n",
       "      <td>7</td>\n",
       "    </tr>\n",
       "    <tr>\n",
       "      <th>3</th>\n",
       "      <td>20</td>\n",
       "      <td>4</td>\n",
       "      <td>8</td>\n",
       "      <td>87</td>\n",
       "      <td>55</td>\n",
       "      <td>18</td>\n",
       "      <td>4</td>\n",
       "      <td>3</td>\n",
       "      <td>4</td>\n",
       "      <td>2</td>\n",
       "      <td>...</td>\n",
       "      <td>5</td>\n",
       "      <td>3</td>\n",
       "      <td>9</td>\n",
       "      <td>25</td>\n",
       "      <td>2</td>\n",
       "      <td>2</td>\n",
       "      <td>1</td>\n",
       "      <td>9</td>\n",
       "      <td>29</td>\n",
       "      <td>7</td>\n",
       "    </tr>\n",
       "    <tr>\n",
       "      <th>4</th>\n",
       "      <td>22</td>\n",
       "      <td>10</td>\n",
       "      <td>4</td>\n",
       "      <td>59</td>\n",
       "      <td>73</td>\n",
       "      <td>33</td>\n",
       "      <td>8</td>\n",
       "      <td>3</td>\n",
       "      <td>6</td>\n",
       "      <td>18</td>\n",
       "      <td>...</td>\n",
       "      <td>4</td>\n",
       "      <td>4</td>\n",
       "      <td>8</td>\n",
       "      <td>16</td>\n",
       "      <td>1</td>\n",
       "      <td>1</td>\n",
       "      <td>2</td>\n",
       "      <td>4</td>\n",
       "      <td>32</td>\n",
       "      <td>3</td>\n",
       "    </tr>\n",
       "  </tbody>\n",
       "</table>\n",
       "<p>5 rows × 7293 columns</p>\n",
       "</div>"
      ],
      "text/plain": [
       "       0     1     2     3     4     5     6     7     8     9     ...  7283  \\\n",
       "stage                                                              ...         \n",
       "0        23     4     6    39    36     8     1     4     2     1  ...    37   \n",
       "1        28     3     6    58    80    11     2     5     2     1  ...     8   \n",
       "2        28     5     7    60    56    10     3     5     6     1  ...    11   \n",
       "3        20     4     8    87    55    18     4     3     4     2  ...     5   \n",
       "4        22    10     4    59    73    33     8     3     6    18  ...     4   \n",
       "\n",
       "       7284  7285  7286  7287  7288  7289  7290  7291  7292  \n",
       "stage                                                        \n",
       "0         4     5    33     3     3     1    13    19     7  \n",
       "1         9     9    29     7     1     4    21    30     5  \n",
       "2         4    11    29     3     6     2    10    28     7  \n",
       "3         3     9    25     2     2     1     9    29     7  \n",
       "4         4     8    16     1     1     2     4    32     3  \n",
       "\n",
       "[5 rows x 7293 columns]"
      ]
     },
     "execution_count": 39,
     "metadata": {},
     "output_type": "execute_result"
    }
   ],
   "source": [
    "emission"
   ]
  },
  {
   "cell_type": "markdown",
   "id": "a26eed13",
   "metadata": {},
   "source": [
    "# training HMM"
   ]
  },
  {
   "cell_type": "code",
   "execution_count": 40,
   "id": "b4d396fd",
   "metadata": {},
   "outputs": [],
   "source": [
    "import hmmlearn as hmmlearn\n",
    "from hmmlearn import hmm\n",
    "from hmmlearn.base import ConvergenceMonitor"
   ]
  },
  {
   "cell_type": "code",
   "execution_count": 51,
   "id": "1a93ecea",
   "metadata": {},
   "outputs": [],
   "source": [
    "df_emission_scale=emission.apply(lambda x:x/emission.sum(axis=1),axis=0)\n",
    "\n",
    "## 5 stage HMM\n",
    "chmm=hmmlearn.hmm.PoissonHMM(n_components=5,params ='tl', init_params='', n_iter=1000, implementation ='log' ,transmat_prior=10, lambdas_prior=10)\n",
    "chmm.startprob_=np.array([1, 0, 0, 0, 0])\n",
    "\n",
    "chmm.transmat_ = np.array([[0.55 , 0.254, 0.114, 0.074, 0.008],\n",
    "                            [0.002, 0.414, 0.5  , 0.075, 0.009],\n",
    "                            [0.002, 0.352, 0.394, 0.232, 0.02 ],\n",
    "                            [0.   , 0.088, 0.39 , 0.392, 0.13 ],\n",
    "                            [0.   , 0.   , 0.   , 0.   , 1.   ]])\n",
    "\n",
    "chmm.lambdas_=df_emission_scale\n",
    "\n",
    "# with open(\"../models/poisson4stagehmm.pkl\", \"rb\") as file: chmm=pickle.load(file)"
   ]
  },
  {
   "cell_type": "code",
   "execution_count": 52,
   "id": "cf0b4271",
   "metadata": {},
   "outputs": [],
   "source": [
    "df_len=df_msg_valid_final.groupby(\"conversationId\").count()['pp_category']"
   ]
  },
  {
   "cell_type": "code",
   "execution_count": 53,
   "id": "8d799ade",
   "metadata": {},
   "outputs": [
    {
     "data": {
      "text/plain": [
       "array([[0.55 , 0.254, 0.114, 0.074, 0.008],\n",
       "       [0.002, 0.414, 0.5  , 0.075, 0.009],\n",
       "       [0.002, 0.352, 0.394, 0.232, 0.02 ],\n",
       "       [0.   , 0.088, 0.39 , 0.392, 0.13 ],\n",
       "       [0.   , 0.   , 0.   , 0.   , 1.   ]])"
      ]
     },
     "execution_count": 53,
     "metadata": {},
     "output_type": "execute_result"
    }
   ],
   "source": [
    "np.round(chmm.transmat_, 3)"
   ]
  },
  {
   "cell_type": "code",
   "execution_count": 120,
   "id": "c12eadd5",
   "metadata": {},
   "outputs": [
    {
     "data": {
      "text/html": [
       "<style>#sk-container-id-3 {color: black;background-color: white;}#sk-container-id-3 pre{padding: 0;}#sk-container-id-3 div.sk-toggleable {background-color: white;}#sk-container-id-3 label.sk-toggleable__label {cursor: pointer;display: block;width: 100%;margin-bottom: 0;padding: 0.3em;box-sizing: border-box;text-align: center;}#sk-container-id-3 label.sk-toggleable__label-arrow:before {content: \"▸\";float: left;margin-right: 0.25em;color: #696969;}#sk-container-id-3 label.sk-toggleable__label-arrow:hover:before {color: black;}#sk-container-id-3 div.sk-estimator:hover label.sk-toggleable__label-arrow:before {color: black;}#sk-container-id-3 div.sk-toggleable__content {max-height: 0;max-width: 0;overflow: hidden;text-align: left;background-color: #f0f8ff;}#sk-container-id-3 div.sk-toggleable__content pre {margin: 0.2em;color: black;border-radius: 0.25em;background-color: #f0f8ff;}#sk-container-id-3 input.sk-toggleable__control:checked~div.sk-toggleable__content {max-height: 200px;max-width: 100%;overflow: auto;}#sk-container-id-3 input.sk-toggleable__control:checked~label.sk-toggleable__label-arrow:before {content: \"▾\";}#sk-container-id-3 div.sk-estimator input.sk-toggleable__control:checked~label.sk-toggleable__label {background-color: #d4ebff;}#sk-container-id-3 div.sk-label input.sk-toggleable__control:checked~label.sk-toggleable__label {background-color: #d4ebff;}#sk-container-id-3 input.sk-hidden--visually {border: 0;clip: rect(1px 1px 1px 1px);clip: rect(1px, 1px, 1px, 1px);height: 1px;margin: -1px;overflow: hidden;padding: 0;position: absolute;width: 1px;}#sk-container-id-3 div.sk-estimator {font-family: monospace;background-color: #f0f8ff;border: 1px dotted black;border-radius: 0.25em;box-sizing: border-box;margin-bottom: 0.5em;}#sk-container-id-3 div.sk-estimator:hover {background-color: #d4ebff;}#sk-container-id-3 div.sk-parallel-item::after {content: \"\";width: 100%;border-bottom: 1px solid gray;flex-grow: 1;}#sk-container-id-3 div.sk-label:hover label.sk-toggleable__label {background-color: #d4ebff;}#sk-container-id-3 div.sk-serial::before {content: \"\";position: absolute;border-left: 1px solid gray;box-sizing: border-box;top: 0;bottom: 0;left: 50%;z-index: 0;}#sk-container-id-3 div.sk-serial {display: flex;flex-direction: column;align-items: center;background-color: white;padding-right: 0.2em;padding-left: 0.2em;position: relative;}#sk-container-id-3 div.sk-item {position: relative;z-index: 1;}#sk-container-id-3 div.sk-parallel {display: flex;align-items: stretch;justify-content: center;background-color: white;position: relative;}#sk-container-id-3 div.sk-item::before, #sk-container-id-3 div.sk-parallel-item::before {content: \"\";position: absolute;border-left: 1px solid gray;box-sizing: border-box;top: 0;bottom: 0;left: 50%;z-index: -1;}#sk-container-id-3 div.sk-parallel-item {display: flex;flex-direction: column;z-index: 1;position: relative;background-color: white;}#sk-container-id-3 div.sk-parallel-item:first-child::after {align-self: flex-end;width: 50%;}#sk-container-id-3 div.sk-parallel-item:last-child::after {align-self: flex-start;width: 50%;}#sk-container-id-3 div.sk-parallel-item:only-child::after {width: 0;}#sk-container-id-3 div.sk-dashed-wrapped {border: 1px dashed gray;margin: 0 0.4em 0.5em 0.4em;box-sizing: border-box;padding-bottom: 0.4em;background-color: white;}#sk-container-id-3 div.sk-label label {font-family: monospace;font-weight: bold;display: inline-block;line-height: 1.2em;}#sk-container-id-3 div.sk-label-container {text-align: center;}#sk-container-id-3 div.sk-container {/* jupyter's `normalize.less` sets `[hidden] { display: none; }` but bootstrap.min.css set `[hidden] { display: none !important; }` so we also need the `!important` here to be able to override the default hidden behavior on the sphinx rendered scikit-learn.org. See: https://github.com/scikit-learn/scikit-learn/issues/21755 */display: inline-block !important;position: relative;}#sk-container-id-3 div.sk-text-repr-fallback {display: none;}</style><div id=\"sk-container-id-3\" class=\"sk-top-container\"><div class=\"sk-text-repr-fallback\"><pre>PoissonHMM(init_params=&#x27;&#x27;, lambdas_prior=10, n_components=5, n_iter=1000,\n",
       "           params=&#x27;tl&#x27;, random_state=RandomState(MT19937) at 0x19468755940,\n",
       "           transmat_prior=10)</pre><b>In a Jupyter environment, please rerun this cell to show the HTML representation or trust the notebook. <br />On GitHub, the HTML representation is unable to render, please try loading this page with nbviewer.org.</b></div><div class=\"sk-container\" hidden><div class=\"sk-item\"><div class=\"sk-estimator sk-toggleable\"><input class=\"sk-toggleable__control sk-hidden--visually\" id=\"sk-estimator-id-3\" type=\"checkbox\" checked><label for=\"sk-estimator-id-3\" class=\"sk-toggleable__label sk-toggleable__label-arrow\">PoissonHMM</label><div class=\"sk-toggleable__content\"><pre>PoissonHMM(init_params=&#x27;&#x27;, lambdas_prior=10, n_components=5, n_iter=1000,\n",
       "           params=&#x27;tl&#x27;, random_state=RandomState(MT19937) at 0x19468755940,\n",
       "           transmat_prior=10)</pre></div></div></div></div></div>"
      ],
      "text/plain": [
       "PoissonHMM(init_params='', lambdas_prior=10, n_components=5, n_iter=1000,\n",
       "           params='tl', random_state=RandomState(MT19937) at 0x19468755940,\n",
       "           transmat_prior=10)"
      ]
     },
     "execution_count": 120,
     "metadata": {},
     "output_type": "execute_result"
    }
   ],
   "source": [
    "chmm.fit(X_final.toarray(), df_len)"
   ]
  },
  {
   "cell_type": "code",
   "execution_count": 121,
   "id": "a3314b7b",
   "metadata": {
    "scrolled": true
   },
   "outputs": [
    {
     "data": {
      "text/plain": [
       "ConvergenceMonitor(\n",
       "    history=[-4280998.489512599, -3642811.0556770638, -3561356.884522278, -3544054.5620864453, -3539990.662093898, -3537401.46993812, -3535097.5766979917, -3533060.768185612, -3531639.4566856935, -3530593.7152021504, -3529785.6760704485, -3529107.4844422545, -3528473.7156679737, -3528091.9964006823, -3527842.2688646256, -3527652.3521094383, -3527497.7050889083, -3527363.1842361023, -3527252.080824137, -3527112.277208641, -3527031.9582720245, -3526956.135868515, -3526878.8078360977, -3526812.127811963, -3526747.4558993606, -3526680.191401395, -3526615.554923118, -3526557.0513532767, -3526502.5176515346, -3526452.1086594076, -3526405.239206636, -3526360.2559531946, -3526316.0926229116, -3526271.141420437, -3526222.8077991917, -3526173.555412466, -3526126.2613442126, -3526080.0133116813, -3526034.578228591, -3525989.3649476566, -3525942.619041527, -3525893.7696066955, -3525839.20823066, -3525769.5347124594, -3525691.235270884, -3525628.5947641497, -3525577.9507456296, -3525534.5368145374, -3525495.836163586, -3525460.523289785, -3525427.5995873185, -3525396.262923098, -3525366.4949182007, -3525338.894223335, -3525313.8971817046, -3525291.7026180853, -3525272.035010019, -3525253.5915383925, -3525236.6226757313, -3525222.2220155895, -3525207.9197783354, -3525191.0915482603, -3525158.2176950853, -3525077.349482597, -3525058.367184396, -3525050.1104265335, -3525043.990833778, -3525039.126897241, -3525035.144643869, -3525031.7736193, -3525028.7967219744, -3525026.0553198103, -3525023.487909294, -3525021.1220171135, -3525018.952987951, -3525016.9227694995, -3525014.976570937, -3525013.0766034294, -3525011.174547266, -3525009.184898558, -3525007.0751133054, -3525005.0863618455, -3525003.456191639, -3525002.1231313236, -3525000.986703434, -3524999.9978080736, -3524999.131858391, -3524998.371973926, -3524997.7042323095, -3524997.116245988, -3524996.5882789204, -3524995.953905719, -3524993.4978691335, -3524990.634272364, -3524989.946583912, -3524989.433143452, -3524988.9771912307, -3524988.57821932, -3524988.238056023, -3524987.9500094615, -3524987.702810794, -3524987.48475055, -3524987.285143539, -3524987.094102457, -3524986.9015362137, -3524986.6953938073, -3524986.4581462177, -3524986.1590469633, -3524985.7408695454, -3524985.128866947, -3524984.3483202267, -3524983.578560979, -3524982.903485082, -3524982.28813272, -3524981.689578844, -3524981.0805562823, -3524980.4451551475, -3524979.77363618, -3524979.0591094946, -3524978.2956940806, -3524977.477623509, -3524976.598891296, -3524975.6531602927, -3524974.6337481346, -3524973.5335394274, -3524972.344703149, -3524971.058146584, -3524969.662722498, -3524968.144271611, -3524966.484573573, -3524964.6602218524, -3524962.641537983, -3524960.3927594665, -3524957.879624508, -3524955.0969157848, -3524952.091872201, -3524948.8987857597, -3524945.4887810587, -3524941.8982984284, -3524938.239194496, -3524934.5067792526, -3524930.561581012, -3524926.0797747113, -3524920.6510507716, -3524914.97057105, -3524909.7092260285, -3524904.581373074, -3524899.6188413166, -3524895.017710137, -3524890.672389375, -3524886.40904512, -3524882.1999919275, -3524878.180162502, -3524874.42505736, -3524870.892673748, -3524867.540866412, -3524864.36049238, -3524861.3517747554, -3524858.503865091, -3524855.794835685, -3524853.1985106897, -3524850.688505628, -3524848.2420496307, -3524845.8502781074, -3524843.53069308, -3524841.315187235, -3524839.2172792796, -3524837.222315325, -3524835.295915747, -3524833.392610802, -3524831.4970381674, -3524829.6950257383, -3524828.063496415, -3524826.550884242, -3524825.0992192794, -3524823.6821486056, -3524822.2845499325, -3524820.9079038966, -3524819.583681448, -3524818.3455263684, -3524817.1882719514, -3524816.0772860805, -3524814.97262947, -3524813.8454286065, -3524812.7005414674, -3524811.5761722787, -3524810.4980679248, -3524809.471153759, -3524808.509764942, -3524807.626857221, -3524806.812913158, -3524806.0456860424, -3524805.3047958817, -3524804.576390487, -3524803.853811735, -3524803.137638976, -3524802.4336637985, -3524801.748162473, -3524801.08382913, -3524800.439282948, -3524799.8108595246, -3524799.194266709, -3524798.5853350367, -3524797.9802172408, -3524797.375488045, -3524796.7683305964, -3524796.1567459884, -3524795.539667612, -3524794.9169724328, -3524794.2893917053, -3524793.6582029997, -3524793.0245227977, -3524792.38794163, -3524791.7441652324, -3524791.0829616077, -3524790.3951515416, -3524789.6939102095, -3524789.0033636102, -3524788.3201031266, -3524787.6324055344, -3524786.938368428, -3524786.2403013483, -3524785.540110442, -3524784.837634824, -3524784.1274979147, -3524783.385280407, -3524782.5092769624, -3524781.269026217, -3524780.0166348573, -3524779.2225935333, -3524778.5119241984, -3524777.8109669485, -3524777.1213430744, -3524776.4441885916, -3524775.7797752107, -3524775.128023499, -3524774.4886970753, -3524773.861496406, -3524773.246109494, -3524772.6422362113, -3524772.049595612, -3524771.4679239853, -3524770.896968948, -3524770.336482792, -3524769.7862167265, -3524769.245916495, -3524768.7153193476, -3524768.1941521545, -3524767.682130293, -3524767.178957184, -3524766.684323987, -3524766.1979096266, -3524765.719380614, -3524765.248390862, -3524764.7845810005, -3524764.327576919, -3524763.876986857, -3524763.4323954605, -3524762.9933520015, -3524762.559345433, -3524762.129747978, -3524761.7036713595, -3524761.279533761, -3524760.853403087, -3524760.4099418535, -3524759.836950594, -3524757.8081879835, -3524753.4743547672, -3524752.709468439, -3524752.1500308346, -3524751.601763271, -3524751.030747635, -3524750.407049961, -3524749.6927845953, -3524748.8637187122, -3524747.9922279376, -3524747.2051184243, -3524746.518101902, -3524745.9070660714, -3524745.3477939037, -3524744.8146392326, -3524744.2942156033, -3524743.782193199, -3524743.277649486, -3524742.7806594465, -3524742.2915293337, -3524741.8105554315, -3524741.33793004, -3524740.8736876855, -3524740.417666569, -3524739.969483696, -3524739.5285308524, -3524739.094000124, -3524738.664944971, -3524738.2403748753, -3524737.819369986, -3524737.401192126, -3524736.985365437, -3524736.5717075705, -3524736.1603078637, -3524735.751464739, -3524735.3456031354, -3524734.943192938, -3524734.544682268, -3524734.150451394, -3524733.760786841, -3524733.375871099, -3524732.9957834226, -3524732.620506907, -3524732.249938672, -3524731.883900953, -3524731.522152112, -3524731.1643969542, -3524730.810296173, -3524730.45947535, -3524730.1115335515, -3524729.7660516533, -3524729.422600327, -3524729.0807475355, -3524728.7400647886, -3524728.400131618, -3524728.06053738, -3524727.7208792055, -3524727.380755906, -3524727.0397563353, -3524726.697441465, -3524726.3533171974, -3524726.0067925863, -3524725.6571115726, -3524725.3032337623, -3524724.943612883, -3524724.5757585615, -3524724.1953157554, -3524723.7940170653, -3524723.355018448, -3524722.8435518844, -3524722.2017892366, -3524721.4134869757, -3524720.6329266895, -3524719.988142087, -3524719.403975571, -3524718.782360872, -3524718.0551000577, -3524717.232622239, -3524716.444952627, -3524715.7412793636, -3524715.068841712, -3524714.3914481048, -3524713.6963138287, -3524712.9748084266, -3524712.20222345, -3524711.268473188, -3524709.7596788355, -3524707.8037624443, -3524706.7746841176, -3524706.047043769, -3524705.361409587, -3524704.69322969, -3524704.0366848772, -3524703.387939041, -3524702.740548148, -3524702.0782025144, -3524701.351074076, -3524700.420033955, -3524699.1610338315, -3524697.652531235, -3524693.5865221703, -3524689.132445861, -3524687.3948848997, -3524685.926717194, -3524684.5005529304, -3524683.0648498205, -3524681.6051967903, -3524680.099484301, -3524678.5032975567, -3524676.801164361, -3524675.1239262023, -3524673.599280805, -3524672.184160675, -3524670.8208618197, -3524669.4905603775, -3524668.1896265266, -3524666.9178973455, -3524665.6755916346, -3524664.4625519156, -3524663.2781226514, -3524662.1211658055, -3524660.989894211, -3524659.880790724, -3524658.7811254943, -3524657.5585077335, -3524653.1442059665, -3524642.5170139694, -3524641.0472097667, -3524639.456903819, -3524637.934323261, -3524636.539859049, -3524635.1481246646, -3524633.7339255223, -3524632.3274086816, -3524630.979353535, -3524629.720330333, -3524628.5304534812, -3524627.3161173197, -3524625.7590891807, -3524623.6480000555, -3524622.3032554337, -3524621.355757758, -3524620.4371962454, -3524619.5390346297, -3524618.660971732, -3524617.802544939, -3524616.9631723687, -3524616.1421062606, -3524615.3383334167, -3524614.5504599973, -3524613.7765757535, -3524613.0140752154, -3524612.2594133117, -3524611.507808925, -3524610.7530466397, -3524609.9878436676, -3524609.2054747553, -3524608.4014610243, -3524607.562287665, -3524606.5511177615, -3524604.5920814043, -3524602.2093108967, -3524600.391098398, -3524598.320600037, -3524595.790840855, -3524592.6538086375, -3524588.846368899, -3524584.4482231275, -3524579.224369168, -3524572.773447693, -3524565.735927309, -3524558.2967374893, -3524552.5791614973, -3524547.328237704, -3524541.965684818, -3524536.391591734, -3524530.570260591, -3524524.2149820635, -3524516.935516325, -3524508.7231621128, -3524499.150317986, -3524484.2303264914, -3524471.111805313, -3524456.845367263, -3524417.2859041467, -3524362.405249326, -3524321.9401424574, -3524281.1170981955, -3524205.4582902403, -3524101.907291301, -3523955.820977259, -3523813.6120152343, -3523651.9719734285, -3523394.391489432, -3522921.803041851, -3522312.708241976, -3521819.2600150504, -3521506.3033628524, -3521098.987282782, -3520639.3334592315, -3520419.5694814017, -3520239.822919848, -3520072.603797285, -3519933.541038923, -3519766.4650530056, -3519645.136541125, -3519527.54947213, -3519461.1719771572, -3519414.0778936185, -3519378.2614478166, -3519347.555073053, -3519316.8743573404, -3519291.498684432, -3519275.250586872, -3519263.896733618, -3519253.428217046, -3519244.269645471, -3519238.1259376784, -3519233.409714238, -3519227.377910989, -3519224.061516785, -3519216.556808701, -3519195.6078481646, -3519150.7653002976, -3519122.102127104, -3519096.2547583873, -3519093.681490642, -3519091.868104175, -3519090.3697388247, -3519089.0747454427, -3519087.796920211, -3519085.8324627657, -3519083.891457878, -3519083.169480698, -3519082.074698755, -3519080.701188197, -3519077.2020959435, -3519072.6677445145, -3519072.022671437, -3519071.9302528547, -3519071.905190366, -3519071.8908831184, -3519071.8873965605],\n",
       "    iter=509,\n",
       "    n_iter=1000,\n",
       "    tol=0.01,\n",
       "    verbose=False,\n",
       ")"
      ]
     },
     "execution_count": 121,
     "metadata": {},
     "output_type": "execute_result"
    }
   ],
   "source": [
    "chmm.monitor_"
   ]
  },
  {
   "cell_type": "code",
   "execution_count": 44,
   "id": "4bb5c017",
   "metadata": {},
   "outputs": [],
   "source": [
    "boW_prob = pd.DataFrame(chmm.lambdas_, columns=cv.get_feature_names_out()).transpose()"
   ]
  },
  {
   "cell_type": "code",
   "execution_count": 45,
   "id": "6df8b31b",
   "metadata": {},
   "outputs": [],
   "source": [
    "boW_prob_baseline=pd.DataFrame(df_emission_scale.to_numpy(),columns=cv.get_feature_names_out()).transpose()"
   ]
  },
  {
   "cell_type": "code",
   "execution_count": 127,
   "id": "62e58ad7",
   "metadata": {},
   "outputs": [
    {
     "data": {
      "text/plain": [
       "array([[0.2728, 0.4567, 0.2345, 0.0341, 0.0018],\n",
       "       [0.02  , 0.4837, 0.454 , 0.0419, 0.0004],\n",
       "       [0.052 , 0.4887, 0.4284, 0.0305, 0.0005],\n",
       "       [0.    , 0.3558, 0.1969, 0.4382, 0.0091],\n",
       "       [0.    , 0.    , 0.    , 0.    , 1.    ]])"
      ]
     },
     "execution_count": 127,
     "metadata": {},
     "output_type": "execute_result"
    }
   ],
   "source": [
    "np.set_printoptions(suppress=True, precision=4)\n",
    "np.round(chmm.transmat_, 4)"
   ]
  },
  {
   "cell_type": "markdown",
   "id": "e60da648",
   "metadata": {},
   "source": [
    "# stage time allocation percentage"
   ]
  },
  {
   "cell_type": "code",
   "execution_count": 128,
   "id": "f93b8d9f",
   "metadata": {},
   "outputs": [],
   "source": [
    "lengths = df_len.tolist()\n",
    "chmm_pred_list = []\n",
    "\n",
    "start = 0\n",
    "for length in lengths:\n",
    "    end = start + length\n",
    "    subseq = X_final.toarray()[start:end]\n",
    "    chmm_pred_list.append(chmm.predict(subseq, length))\n",
    "    start = end\n",
    "    \n",
    "combined_pred_list = [item for sublist in chmm_pred_list for item in sublist]\n",
    "df_msg_valid_final['pred_stage'] = combined_pred_list"
   ]
  },
  {
   "cell_type": "code",
   "execution_count": 130,
   "id": "2ee315dc",
   "metadata": {},
   "outputs": [
    {
     "data": {
      "text/html": [
       "<div>\n",
       "<style scoped>\n",
       "    .dataframe tbody tr th:only-of-type {\n",
       "        vertical-align: middle;\n",
       "    }\n",
       "\n",
       "    .dataframe tbody tr th {\n",
       "        vertical-align: top;\n",
       "    }\n",
       "\n",
       "    .dataframe thead th {\n",
       "        text-align: right;\n",
       "    }\n",
       "</style>\n",
       "<table border=\"1\" class=\"dataframe\">\n",
       "  <thead>\n",
       "    <tr style=\"text-align: right;\">\n",
       "      <th></th>\n",
       "      <th>conversationId</th>\n",
       "      <th>pred_stage</th>\n",
       "      <th>time_diff_seconds_x</th>\n",
       "      <th>time_diff_seconds_y</th>\n",
       "      <th>percentage</th>\n",
       "    </tr>\n",
       "  </thead>\n",
       "  <tbody>\n",
       "    <tr>\n",
       "      <th>0</th>\n",
       "      <td>000000c7-0b79-4a6f-aecd-895fb97aaca7</td>\n",
       "      <td>0</td>\n",
       "      <td>230.920</td>\n",
       "      <td>1654.547</td>\n",
       "      <td>13.956690</td>\n",
       "    </tr>\n",
       "    <tr>\n",
       "      <th>1</th>\n",
       "      <td>000000c7-0b79-4a6f-aecd-895fb97aaca7</td>\n",
       "      <td>1</td>\n",
       "      <td>446.486</td>\n",
       "      <td>1654.547</td>\n",
       "      <td>26.985392</td>\n",
       "    </tr>\n",
       "    <tr>\n",
       "      <th>2</th>\n",
       "      <td>000000c7-0b79-4a6f-aecd-895fb97aaca7</td>\n",
       "      <td>2</td>\n",
       "      <td>775.612</td>\n",
       "      <td>1654.547</td>\n",
       "      <td>46.877605</td>\n",
       "    </tr>\n",
       "    <tr>\n",
       "      <th>3</th>\n",
       "      <td>000000c7-0b79-4a6f-aecd-895fb97aaca7</td>\n",
       "      <td>3</td>\n",
       "      <td>201.529</td>\n",
       "      <td>1654.547</td>\n",
       "      <td>12.180313</td>\n",
       "    </tr>\n",
       "    <tr>\n",
       "      <th>4</th>\n",
       "      <td>00062144-d067-49e6-b674-5af3b9aadfd9</td>\n",
       "      <td>1</td>\n",
       "      <td>957.540</td>\n",
       "      <td>1845.222</td>\n",
       "      <td>51.892943</td>\n",
       "    </tr>\n",
       "    <tr>\n",
       "      <th>...</th>\n",
       "      <td>...</td>\n",
       "      <td>...</td>\n",
       "      <td>...</td>\n",
       "      <td>...</td>\n",
       "      <td>...</td>\n",
       "    </tr>\n",
       "    <tr>\n",
       "      <th>10339</th>\n",
       "      <td>ffd2d0ef-d863-4d8a-a532-23be48765f6c</td>\n",
       "      <td>2</td>\n",
       "      <td>2095.327</td>\n",
       "      <td>3462.671</td>\n",
       "      <td>60.511871</td>\n",
       "    </tr>\n",
       "    <tr>\n",
       "      <th>10340</th>\n",
       "      <td>ffd2d0ef-d863-4d8a-a532-23be48765f6c</td>\n",
       "      <td>3</td>\n",
       "      <td>480.256</td>\n",
       "      <td>3462.671</td>\n",
       "      <td>13.869524</td>\n",
       "    </tr>\n",
       "    <tr>\n",
       "      <th>10341</th>\n",
       "      <td>ffdc786a-f945-4565-a91b-06994285d88e</td>\n",
       "      <td>0</td>\n",
       "      <td>429.105</td>\n",
       "      <td>3769.982</td>\n",
       "      <td>11.382150</td>\n",
       "    </tr>\n",
       "    <tr>\n",
       "      <th>10342</th>\n",
       "      <td>ffdc786a-f945-4565-a91b-06994285d88e</td>\n",
       "      <td>1</td>\n",
       "      <td>1157.971</td>\n",
       "      <td>3769.982</td>\n",
       "      <td>30.715558</td>\n",
       "    </tr>\n",
       "    <tr>\n",
       "      <th>10343</th>\n",
       "      <td>ffdc786a-f945-4565-a91b-06994285d88e</td>\n",
       "      <td>2</td>\n",
       "      <td>2182.906</td>\n",
       "      <td>3769.982</td>\n",
       "      <td>57.902292</td>\n",
       "    </tr>\n",
       "  </tbody>\n",
       "</table>\n",
       "<p>10344 rows × 5 columns</p>\n",
       "</div>"
      ],
      "text/plain": [
       "                             conversationId  pred_stage  time_diff_seconds_x  \\\n",
       "0      000000c7-0b79-4a6f-aecd-895fb97aaca7           0              230.920   \n",
       "1      000000c7-0b79-4a6f-aecd-895fb97aaca7           1              446.486   \n",
       "2      000000c7-0b79-4a6f-aecd-895fb97aaca7           2              775.612   \n",
       "3      000000c7-0b79-4a6f-aecd-895fb97aaca7           3              201.529   \n",
       "4      00062144-d067-49e6-b674-5af3b9aadfd9           1              957.540   \n",
       "...                                     ...         ...                  ...   \n",
       "10339  ffd2d0ef-d863-4d8a-a532-23be48765f6c           2             2095.327   \n",
       "10340  ffd2d0ef-d863-4d8a-a532-23be48765f6c           3              480.256   \n",
       "10341  ffdc786a-f945-4565-a91b-06994285d88e           0              429.105   \n",
       "10342  ffdc786a-f945-4565-a91b-06994285d88e           1             1157.971   \n",
       "10343  ffdc786a-f945-4565-a91b-06994285d88e           2             2182.906   \n",
       "\n",
       "       time_diff_seconds_y  percentage  \n",
       "0                 1654.547   13.956690  \n",
       "1                 1654.547   26.985392  \n",
       "2                 1654.547   46.877605  \n",
       "3                 1654.547   12.180313  \n",
       "4                 1845.222   51.892943  \n",
       "...                    ...         ...  \n",
       "10339             3462.671   60.511871  \n",
       "10340             3462.671   13.869524  \n",
       "10341             3769.982   11.382150  \n",
       "10342             3769.982   30.715558  \n",
       "10343             3769.982   57.902292  \n",
       "\n",
       "[10344 rows x 5 columns]"
      ]
     },
     "execution_count": 130,
     "metadata": {},
     "output_type": "execute_result"
    }
   ],
   "source": [
    "# sort conversations by ID and time. Then calculate time duration between each message\n",
    "df_msg_valid_final['time_diff'] = df_msg_valid_final.sort_values(by=['conversationId', 'datetime']).groupby('conversationId')['datetime'].diff().shift(-1)\n",
    "\n",
    "# convert time duration to seconds\n",
    "df_msg_valid_final['time_diff_seconds'] = df_msg_valid_final['time_diff'].dt.total_seconds()\n",
    "\n",
    "# sum up time duration of each stage within each conversation\n",
    "stage_durations = df_msg_valid_final.groupby(['conversationId', 'pred_stage'])['time_diff_seconds'].sum().reset_index()\n",
    "\n",
    "# calculate total time duration of each conversation\n",
    "total_durations = df_msg_valid_final.groupby('conversationId')['time_diff_seconds'].sum().reset_index()\n",
    "\n",
    "# merge conversation total time duration to dataframe\n",
    "stage_durations = stage_durations.merge(total_durations, on='conversationId')\n",
    "\n",
    "# calculate percentage of each stage within each conversation\n",
    "stage_durations['percentage'] = (stage_durations['time_diff_seconds_x'] / stage_durations['time_diff_seconds_y']) * 100\n",
    "\n",
    "stage_durations"
   ]
  },
  {
   "cell_type": "code",
   "execution_count": 50,
   "id": "0a1eb6e7",
   "metadata": {},
   "outputs": [
    {
     "name": "stdout",
     "output_type": "stream",
     "text": [
      "array([5.84, 38.36, 41.74, 19.82,  5.91])\n"
     ]
    }
   ],
   "source": [
    "# Step 1: Group by 'pred_stage' and sum the 'time_diff_seconds_x' for each stage\n",
    "stage_time_sum = stage_durations.groupby('pred_stage')['time_diff_seconds_x'].sum()\n",
    "\n",
    "# Step 2: Calculate the total time across all stages\n",
    "total_time = stage_time_sum.sum()\n",
    "\n",
    "# Step 3: Calculate the percentage for each stage across all sessions\n",
    "stage_percentage = (stage_time_sum / total_time) * 100\n",
    "\n",
    "# Step 4: Display the result\n",
    "np.round(stage_percentage.tolist(), 2)"
   ]
  },
  {
   "cell_type": "code",
   "execution_count": 115,
   "id": "e07b6d9a",
   "metadata": {},
   "outputs": [
    {
     "data": {
      "image/png": "[encoded data removed]",
      "text/plain": [
       "<Figure size 640x480 with 1 Axes>"
      ]
     },
     "metadata": {},
     "output_type": "display_data"
    }
   ],
   "source": [
    "# Step 3: Plot the bar plot with error bars\n",
    "fig, ax = plt.subplots()\n",
    "\n",
    "x = np.arange(5)  # X positions for the stages\n",
    "\n",
    "good = [5.84, 38.36, 41.74, 19.82,  5.91]\n",
    "bad = [ 8.32, 40.72, 43.43, 16.57,  6.29]\n",
    "\n",
    "# Plot bars with error bars\n",
    "ax.bar(x - 0.2, good, 0.4, yerr=[0.54, 0.31, 0.56, 0.55, 0.53], color='#0343DF', capsize=5, label='More Satisfying Sessions')\n",
    "ax.bar(x + 0.2, bad, 0.4, yerr=[0.5 , 0.82, 0.87, 0.9, 1.03 ], color='orange', capsize=5, label='Less Satisfying Sessions')\n",
    "\n",
    "# Add labels and title\n",
    "ax.set_xticks(x)\n",
    "ax.set_xticklabels(['Stage 1', 'Stage 2', 'Stage 3', 'Stage 4', 'Stage 5'])\n",
    "ax.set_xlabel('Stage')\n",
    "ax.set_ylabel('Time Allocation (%)')\n",
    "# ax.set_title('Time Allocation by Stage (with Standard Error)')\n",
    "ax.legend(fontsize=8, loc=\"upper right\")\n",
    "\n",
    "plt.show()"
   ]
  }
 ],
 "metadata": {
  "kernelspec": {
   "display_name": "venv",
   "language": "python",
   "name": "venv"
  },
  "language_info": {
   "codemirror_mode": {
    "name": "ipython",
    "version": 3
   },
   "file_extension": ".py",
   "mimetype": "text/x-python",
   "name": "python",
   "nbconvert_exporter": "python",
   "pygments_lexer": "ipython3",
   "version": "3.10.9"
  }
 },
 "nbformat": 4,
 "nbformat_minor": 5
}
