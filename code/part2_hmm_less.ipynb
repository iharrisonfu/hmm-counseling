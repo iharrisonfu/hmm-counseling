{
 "cells": [
  {
   "cell_type": "markdown",
   "id": "868d137c",
   "metadata": {},
   "source": [
    "# data cleaning"
   ]
  },
  {
   "cell_type": "code",
   "execution_count": 1,
   "id": "b2958397",
   "metadata": {},
   "outputs": [],
   "source": [
    "from sklearn.decomposition import LatentDirichletAllocation\n",
    "from sklearn.feature_extraction.text import CountVectorizer\n",
    "from sklearn.feature_extraction.text import TfidfVectorizer,  TfidfTransformer\n",
    "import jieba\n",
    "from pycantonese.word_segmentation import Segmenter\n",
    "import pycantonese\n",
    "import pandas as pd\n",
    "from gensim.models import Word2Vec\n",
    "from sklearn.metrics.pairwise import cosine_similarity\n",
    "import numpy as np\n",
    "import pickle\n",
    "import re\n",
    "\n",
    "import warnings\n",
    "warnings.filterwarnings('ignore')"
   ]
  },
  {
   "cell_type": "code",
   "execution_count": 38,
   "id": "e59fbbb6",
   "metadata": {
    "scrolled": true
   },
   "outputs": [],
   "source": [
    "df_msg_valid = pd.read_excel('../data/good_bad_chat_history_total_20240117.xlsx')"
   ]
  },
  {
   "cell_type": "code",
   "execution_count": 39,
   "id": "eebff918",
   "metadata": {},
   "outputs": [],
   "source": [
    "df_pp_count = df_msg_valid.drop_duplicates(subset=['conversationId'])[['conversationId', 'max_pp']]\n",
    "df_pp_count_des = df_pp_count.describe()"
   ]
  },
  {
   "cell_type": "code",
   "execution_count": 40,
   "id": "df761056",
   "metadata": {},
   "outputs": [],
   "source": [
    "import seaborn as sns\n",
    "import matplotlib.pyplot as plt\n",
    "plt.rcParams['font.sans-serif']=['Microsoft JhengHei']"
   ]
  },
  {
   "cell_type": "code",
   "execution_count": 41,
   "id": "708b498d",
   "metadata": {},
   "outputs": [
    {
     "data": {
      "text/plain": [
       "<seaborn.axisgrid.FacetGrid at 0x1a9bc6285e0>"
      ]
     },
     "execution_count": 41,
     "metadata": {},
     "output_type": "execute_result"
    },
    {
     "data": {
      "image/png": "[encoded data removed]",
      "text/plain": [
       "<Figure size 500x500 with 1 Axes>"
      ]
     },
     "metadata": {},
     "output_type": "display_data"
    }
   ],
   "source": [
    "sns.displot(df_pp_count, x='max_pp')"
   ]
  },
  {
   "cell_type": "code",
   "execution_count": 42,
   "id": "e3ea0929",
   "metadata": {},
   "outputs": [
    {
     "name": "stdout",
     "output_type": "stream",
     "text": [
      "131.5\n"
     ]
    }
   ],
   "source": [
    "# calculate Interquantile Range\n",
    "print(df_pp_count_des.loc['75%','max_pp']+1.5*(df_pp_count_des.loc['75%','max_pp']-df_pp_count_des.loc['25%','max_pp']))"
   ]
  },
  {
   "cell_type": "code",
   "execution_count": 43,
   "id": "64d26a0b",
   "metadata": {},
   "outputs": [
    {
     "data": {
      "text/plain": [
       "2589"
      ]
     },
     "execution_count": 43,
     "metadata": {},
     "output_type": "execute_result"
    }
   ],
   "source": [
    "#select sessions with message count larger than 4 to ensure data balance\n",
    "valid_convId_pp = df_pp_count[(df_pp_count['max_pp']>=4)&(df_pp_count['max_pp']<=132)]['conversationId'].tolist()\n",
    "len(valid_convId_pp)"
   ]
  },
  {
   "cell_type": "code",
   "execution_count": 44,
   "id": "8e2453e5",
   "metadata": {
    "scrolled": false
   },
   "outputs": [
    {
     "data": {
      "text/plain": [
       "<seaborn.axisgrid.FacetGrid at 0x1a9b7f17220>"
      ]
     },
     "execution_count": 44,
     "metadata": {},
     "output_type": "execute_result"
    },
    {
     "data": {
      "image/png": "[encoded data removed]",
      "text/plain": [
       "<Figure size 500x500 with 1 Axes>"
      ]
     },
     "metadata": {},
     "output_type": "display_data"
    }
   ],
   "source": [
    "# draw distribution of total message exchange count after removing outliers\n",
    "df_pp = df_msg_valid[(df_msg_valid['conversationId'].isin(valid_convId_pp))].drop_duplicates(subset=['conversationId'])\n",
    "sns.displot(df_pp, x='max_pp')"
   ]
  },
  {
   "cell_type": "code",
   "execution_count": 45,
   "id": "244ddb5f",
   "metadata": {
    "scrolled": true
   },
   "outputs": [],
   "source": [
    "df_msg_validd = df_msg_valid[(df_msg_valid['conversationId'].isin(valid_convId_pp))]\n",
    "df_msg_validd.reset_index(inplace=True, drop=True)"
   ]
  },
  {
   "cell_type": "code",
   "execution_count": 46,
   "id": "463e68b7",
   "metadata": {},
   "outputs": [
    {
     "data": {
      "text/plain": [
       "good    1993\n",
       "bad      596\n",
       "Name: quality, dtype: int64"
      ]
     },
     "execution_count": 46,
     "metadata": {},
     "output_type": "execute_result"
    }
   ],
   "source": [
    "good_bad_count = df_msg_validd.drop_duplicates(subset=['conversationId'])\n",
    "good_bad_count['quality'].value_counts()"
   ]
  },
  {
   "cell_type": "markdown",
   "id": "550ab111",
   "metadata": {},
   "source": [
    "# data processing"
   ]
  },
  {
   "cell_type": "code",
   "execution_count": 11,
   "id": "569516fd",
   "metadata": {
    "scrolled": true
   },
   "outputs": [],
   "source": [
    "df_msg_valid = df_msg_validd.copy()"
   ]
  },
  {
   "cell_type": "code",
   "execution_count": 12,
   "id": "d1793dbd",
   "metadata": {
    "scrolled": true
   },
   "outputs": [],
   "source": [
    "df_msg_valid = df_msg_valid[(df_msg_valid['conversationId'].isin(good_bad_count[(good_bad_count['quality'] == 'bad')]['conversationId'].tolist()))]\n",
    "df_msg_valid.reset_index(inplace=True, drop=True)"
   ]
  },
  {
   "cell_type": "code",
   "execution_count": 13,
   "id": "8d87b4ba",
   "metadata": {
    "scrolled": true
   },
   "outputs": [],
   "source": [
    "df_msg_valid['msg_token_list'] = None\n",
    "for i in range(len(df_msg_valid['msg_token'])):\n",
    "    df_msg_valid['msg_token_list'][i] = df_msg_valid['msg_token'][i].split(' ')"
   ]
  },
  {
   "cell_type": "code",
   "execution_count": 14,
   "id": "133f323c",
   "metadata": {},
   "outputs": [],
   "source": [
    "df_msg_valid=df_msg_valid.assign(pp_percentage=df_msg_valid['pp']/df_msg_valid['max_pp'])"
   ]
  },
  {
   "cell_type": "code",
   "execution_count": 16,
   "id": "dccc44b0",
   "metadata": {
    "scrolled": true
   },
   "outputs": [],
   "source": [
    "# split session into equal fifth\n",
    "def df_label_category(df, cat):\n",
    "    labels = np.arange(len(cat)-1)\n",
    "    category = [0, 0.2, 0.4, 0.6, 0.8, 1.0]\n",
    "    df['pp_category'] = pd.cut(df['pp_percentage'], labels=labels, bins=category, include_lowest=True)\n",
    "    return df\n",
    "\n",
    "n_stage=6\n",
    "df_msg_valid=df_msg_valid.pipe(df_label_category, np.linspace(0, 1 , n_stage) )"
   ]
  },
  {
   "cell_type": "code",
   "execution_count": 17,
   "id": "60b2389b",
   "metadata": {},
   "outputs": [],
   "source": [
    "df_msg_valid = df_msg_valid[['conversationId', 'from_whom', 'datetime', 'msg_replace', 'msg_token', 'msg_token_list', 'pp', 'max_pp', 'pp_percentage', 'pp_category']]"
   ]
  },
  {
   "cell_type": "code",
   "execution_count": 18,
   "id": "1fb2ede7",
   "metadata": {
    "scrolled": true
   },
   "outputs": [],
   "source": [
    "for i in range(len(df_msg_valid['msg_token_list'])):\n",
    "    if df_msg_valid['from_whom'][i] == True:\n",
    "        for j in range(len(df_msg_valid['msg_token_list'][i])):\n",
    "            df_msg_valid['msg_token_list'][i][j] = 'H' + df_msg_valid['msg_token_list'][i][j]\n",
    "    else:\n",
    "        for j in range(len(df_msg_valid['msg_token_list'][i])):\n",
    "            df_msg_valid['msg_token_list'][i][j] = 'C' + df_msg_valid['msg_token_list'][i][j]"
   ]
  },
  {
   "cell_type": "code",
   "execution_count": 19,
   "id": "9040648c",
   "metadata": {
    "scrolled": true
   },
   "outputs": [],
   "source": [
    "df_msg_valid['msg_token'] = [' '.join(i) for i in df_msg_valid['msg_token_list']]"
   ]
  },
  {
   "cell_type": "code",
   "execution_count": 20,
   "id": "de8752d4",
   "metadata": {},
   "outputs": [],
   "source": [
    "df_msg_valid['pp_category'] = df_msg_valid['pp_category'].fillna(0)"
   ]
  },
  {
   "cell_type": "markdown",
   "id": "3a3ff41e",
   "metadata": {},
   "source": [
    "# hmm training"
   ]
  },
  {
   "cell_type": "markdown",
   "id": "de6f1544",
   "metadata": {},
   "source": [
    "## message-based tf-idf"
   ]
  },
  {
   "cell_type": "code",
   "execution_count": 21,
   "id": "4ebd4f6c",
   "metadata": {},
   "outputs": [],
   "source": [
    "# Instantiate TfidfVectorizer with custom stopwords\n",
    "tfidf_vectorizer = TfidfVectorizer(token_pattern='\\\\b\\\\w+\\\\b', min_df=2)  # min_df to avoid very rare words , stop_words = list(low_freq_words)\n",
    "\n",
    "# Fit and transform the data\n",
    "tfidf_matrix = tfidf_vectorizer.fit_transform(df_msg_valid['msg_token'])\n",
    "\n",
    "# Get feature names and their corresponding TF-IDF scores\n",
    "feature_names = tfidf_vectorizer.get_feature_names_out()\n",
    "tfidf_scores = np.asarray(tfidf_matrix.sum(axis=0)).flatten()\n",
    "\n",
    "# Create a DataFrame for TF-IDF scores\n",
    "tfidf_df = pd.DataFrame({'word': feature_names, 'score': tfidf_scores})"
   ]
  },
  {
   "cell_type": "code",
   "execution_count": 22,
   "id": "433ec8ac",
   "metadata": {},
   "outputs": [],
   "source": [
    "# Filter based on a score threshold (3rd quantile)\n",
    "threshold = tfidf_df['score'].describe()['75%']\n",
    "\n",
    "low_tfidf_words = list(tfidf_df.loc[tfidf_df['score']<threshold]['word'])"
   ]
  },
  {
   "cell_type": "code",
   "execution_count": 23,
   "id": "18b0cb85",
   "metadata": {},
   "outputs": [],
   "source": [
    "cv = CountVectorizer(min_df = 2, max_df = 1.0, token_pattern ='\\\\b\\\\w+\\\\b', stop_words = low_tfidf_words) # +list(low_freq_words)\n",
    "cv.fit(df_msg_valid['msg_token'])\n",
    "X = cv.transform(df_msg_valid['msg_token'])"
   ]
  },
  {
   "cell_type": "code",
   "execution_count": 24,
   "id": "40af7a43",
   "metadata": {},
   "outputs": [
    {
     "data": {
      "text/plain": [
       "<31777x1994 sparse matrix of type '<class 'numpy.int64'>'\n",
       "\twith 73022 stored elements in Compressed Sparse Row format>"
      ]
     },
     "execution_count": 24,
     "metadata": {},
     "output_type": "execute_result"
    }
   ],
   "source": [
    "X"
   ]
  },
  {
   "cell_type": "markdown",
   "id": "6c6b0b35",
   "metadata": {},
   "source": [
    "## remove messages with no bags-of-words"
   ]
  },
  {
   "cell_type": "code",
   "execution_count": 25,
   "id": "36bd417c",
   "metadata": {},
   "outputs": [],
   "source": [
    "## Remove conversation without any BoW inside\n",
    "threshold = 1\n",
    "X_final = X[np.where(X.sum(axis=1) > threshold)[0],:]\n",
    "df_msg_valid_final = df_msg_valid.iloc[np.where(X.sum(axis=1) > threshold)[0],:]\n",
    "df_msg_valid_final.reset_index(inplace = True, drop = True)"
   ]
  },
  {
   "cell_type": "code",
   "execution_count": 26,
   "id": "5e9462bb",
   "metadata": {},
   "outputs": [
    {
     "data": {
      "text/plain": [
       "<17900x1994 sparse matrix of type '<class 'numpy.int64'>'\n",
       "\twith 62623 stored elements in Compressed Sparse Row format>"
      ]
     },
     "execution_count": 26,
     "metadata": {},
     "output_type": "execute_result"
    }
   ],
   "source": [
    "X_final"
   ]
  },
  {
   "cell_type": "code",
   "execution_count": 47,
   "id": "51c4ece6",
   "metadata": {},
   "outputs": [],
   "source": [
    "final_conv_msg_count = pd.DataFrame(df_msg_valid_final['conversationId'].value_counts())\n",
    "final_conv_msg_count.reset_index(inplace=True,drop=False)"
   ]
  },
  {
   "cell_type": "markdown",
   "id": "8f6ac3ca",
   "metadata": {},
   "source": [
    "# prepare emission probability matrix"
   ]
  },
  {
   "cell_type": "code",
   "execution_count": 28,
   "id": "aa5af1eb",
   "metadata": {},
   "outputs": [],
   "source": [
    "emission=pd.DataFrame(X_final.toarray())\n",
    "df_msg_valid_final.pp_category=df_msg_valid_final.pp_category.astype(int)\n",
    "emission[\"stage\"]=df_msg_valid_final.pp_category"
   ]
  },
  {
   "cell_type": "code",
   "execution_count": 29,
   "id": "06aa79ba",
   "metadata": {},
   "outputs": [],
   "source": [
    "emission=emission.groupby('stage').sum()"
   ]
  },
  {
   "cell_type": "code",
   "execution_count": 30,
   "id": "9b323524",
   "metadata": {},
   "outputs": [],
   "source": [
    "emission+=1"
   ]
  },
  {
   "cell_type": "code",
   "execution_count": 31,
   "id": "14c019b9",
   "metadata": {},
   "outputs": [
    {
     "data": {
      "text/html": [
       "<div>\n",
       "<style scoped>\n",
       "    .dataframe tbody tr th:only-of-type {\n",
       "        vertical-align: middle;\n",
       "    }\n",
       "\n",
       "    .dataframe tbody tr th {\n",
       "        vertical-align: top;\n",
       "    }\n",
       "\n",
       "    .dataframe thead th {\n",
       "        text-align: right;\n",
       "    }\n",
       "</style>\n",
       "<table border=\"1\" class=\"dataframe\">\n",
       "  <thead>\n",
       "    <tr style=\"text-align: right;\">\n",
       "      <th></th>\n",
       "      <th>0</th>\n",
       "      <th>1</th>\n",
       "      <th>2</th>\n",
       "      <th>3</th>\n",
       "      <th>4</th>\n",
       "      <th>5</th>\n",
       "      <th>6</th>\n",
       "      <th>7</th>\n",
       "      <th>8</th>\n",
       "      <th>9</th>\n",
       "      <th>...</th>\n",
       "      <th>1984</th>\n",
       "      <th>1985</th>\n",
       "      <th>1986</th>\n",
       "      <th>1987</th>\n",
       "      <th>1988</th>\n",
       "      <th>1989</th>\n",
       "      <th>1990</th>\n",
       "      <th>1991</th>\n",
       "      <th>1992</th>\n",
       "      <th>1993</th>\n",
       "    </tr>\n",
       "    <tr>\n",
       "      <th>stage</th>\n",
       "      <th></th>\n",
       "      <th></th>\n",
       "      <th></th>\n",
       "      <th></th>\n",
       "      <th></th>\n",
       "      <th></th>\n",
       "      <th></th>\n",
       "      <th></th>\n",
       "      <th></th>\n",
       "      <th></th>\n",
       "      <th></th>\n",
       "      <th></th>\n",
       "      <th></th>\n",
       "      <th></th>\n",
       "      <th></th>\n",
       "      <th></th>\n",
       "      <th></th>\n",
       "      <th></th>\n",
       "      <th></th>\n",
       "      <th></th>\n",
       "      <th></th>\n",
       "    </tr>\n",
       "  </thead>\n",
       "  <tbody>\n",
       "    <tr>\n",
       "      <th>0</th>\n",
       "      <td>3</td>\n",
       "      <td>5</td>\n",
       "      <td>3</td>\n",
       "      <td>1</td>\n",
       "      <td>4</td>\n",
       "      <td>3</td>\n",
       "      <td>3</td>\n",
       "      <td>1</td>\n",
       "      <td>3</td>\n",
       "      <td>4</td>\n",
       "      <td>...</td>\n",
       "      <td>4</td>\n",
       "      <td>9</td>\n",
       "      <td>6</td>\n",
       "      <td>4</td>\n",
       "      <td>3</td>\n",
       "      <td>16</td>\n",
       "      <td>14</td>\n",
       "      <td>5</td>\n",
       "      <td>8</td>\n",
       "      <td>2</td>\n",
       "    </tr>\n",
       "    <tr>\n",
       "      <th>1</th>\n",
       "      <td>3</td>\n",
       "      <td>5</td>\n",
       "      <td>11</td>\n",
       "      <td>3</td>\n",
       "      <td>4</td>\n",
       "      <td>4</td>\n",
       "      <td>6</td>\n",
       "      <td>3</td>\n",
       "      <td>4</td>\n",
       "      <td>6</td>\n",
       "      <td>...</td>\n",
       "      <td>10</td>\n",
       "      <td>12</td>\n",
       "      <td>10</td>\n",
       "      <td>3</td>\n",
       "      <td>11</td>\n",
       "      <td>11</td>\n",
       "      <td>11</td>\n",
       "      <td>2</td>\n",
       "      <td>5</td>\n",
       "      <td>3</td>\n",
       "    </tr>\n",
       "    <tr>\n",
       "      <th>2</th>\n",
       "      <td>2</td>\n",
       "      <td>11</td>\n",
       "      <td>6</td>\n",
       "      <td>3</td>\n",
       "      <td>2</td>\n",
       "      <td>1</td>\n",
       "      <td>4</td>\n",
       "      <td>5</td>\n",
       "      <td>4</td>\n",
       "      <td>3</td>\n",
       "      <td>...</td>\n",
       "      <td>1</td>\n",
       "      <td>14</td>\n",
       "      <td>3</td>\n",
       "      <td>3</td>\n",
       "      <td>4</td>\n",
       "      <td>11</td>\n",
       "      <td>7</td>\n",
       "      <td>2</td>\n",
       "      <td>4</td>\n",
       "      <td>6</td>\n",
       "    </tr>\n",
       "    <tr>\n",
       "      <th>3</th>\n",
       "      <td>3</td>\n",
       "      <td>9</td>\n",
       "      <td>9</td>\n",
       "      <td>4</td>\n",
       "      <td>8</td>\n",
       "      <td>4</td>\n",
       "      <td>8</td>\n",
       "      <td>3</td>\n",
       "      <td>3</td>\n",
       "      <td>13</td>\n",
       "      <td>...</td>\n",
       "      <td>1</td>\n",
       "      <td>8</td>\n",
       "      <td>5</td>\n",
       "      <td>6</td>\n",
       "      <td>4</td>\n",
       "      <td>10</td>\n",
       "      <td>6</td>\n",
       "      <td>2</td>\n",
       "      <td>5</td>\n",
       "      <td>4</td>\n",
       "    </tr>\n",
       "    <tr>\n",
       "      <th>4</th>\n",
       "      <td>3</td>\n",
       "      <td>15</td>\n",
       "      <td>21</td>\n",
       "      <td>23</td>\n",
       "      <td>19</td>\n",
       "      <td>6</td>\n",
       "      <td>4</td>\n",
       "      <td>6</td>\n",
       "      <td>14</td>\n",
       "      <td>17</td>\n",
       "      <td>...</td>\n",
       "      <td>1</td>\n",
       "      <td>6</td>\n",
       "      <td>1</td>\n",
       "      <td>2</td>\n",
       "      <td>1</td>\n",
       "      <td>3</td>\n",
       "      <td>5</td>\n",
       "      <td>1</td>\n",
       "      <td>3</td>\n",
       "      <td>3</td>\n",
       "    </tr>\n",
       "  </tbody>\n",
       "</table>\n",
       "<p>5 rows × 1994 columns</p>\n",
       "</div>"
      ],
      "text/plain": [
       "       0     1     2     3     4     5     6     7     8     9     ...  1984  \\\n",
       "stage                                                              ...         \n",
       "0         3     5     3     1     4     3     3     1     3     4  ...     4   \n",
       "1         3     5    11     3     4     4     6     3     4     6  ...    10   \n",
       "2         2    11     6     3     2     1     4     5     4     3  ...     1   \n",
       "3         3     9     9     4     8     4     8     3     3    13  ...     1   \n",
       "4         3    15    21    23    19     6     4     6    14    17  ...     1   \n",
       "\n",
       "       1985  1986  1987  1988  1989  1990  1991  1992  1993  \n",
       "stage                                                        \n",
       "0         9     6     4     3    16    14     5     8     2  \n",
       "1        12    10     3    11    11    11     2     5     3  \n",
       "2        14     3     3     4    11     7     2     4     6  \n",
       "3         8     5     6     4    10     6     2     5     4  \n",
       "4         6     1     2     1     3     5     1     3     3  \n",
       "\n",
       "[5 rows x 1994 columns]"
      ]
     },
     "execution_count": 31,
     "metadata": {},
     "output_type": "execute_result"
    }
   ],
   "source": [
    "emission"
   ]
  },
  {
   "cell_type": "markdown",
   "id": "694f7705",
   "metadata": {},
   "source": [
    "# training HMM"
   ]
  },
  {
   "cell_type": "code",
   "execution_count": 32,
   "id": "b4d396fd",
   "metadata": {},
   "outputs": [],
   "source": [
    "import hmmlearn as hmmlearn\n",
    "from hmmlearn import hmm\n",
    "from hmmlearn.base import ConvergenceMonitor"
   ]
  },
  {
   "cell_type": "code",
   "execution_count": 33,
   "id": "1a93ecea",
   "metadata": {},
   "outputs": [],
   "source": [
    "df_emission_scale=emission.apply(lambda x:x/emission.sum(axis=1),axis=0)\n",
    "\n",
    "## 5 stage HMM\n",
    "chmm=hmmlearn.hmm.PoissonHMM(n_components=5,params ='tl', init_params='', n_iter=1000, implementation ='log' ,transmat_prior=10, lambdas_prior=10)\n",
    "chmm.startprob_=np.array([1, 0, 0, 0, 0])\n",
    "\n",
    "chmm.transmat_ = np.array([[0.919, 0.023, 0.022, 0.022, 0.014],\n",
    "                            [0.019, 0.4  , 0.029, 0.067, 0.485],\n",
    "                            [0.002, 0.716, 0.012, 0.043, 0.227],\n",
    "                            [0, 0.70, 0.007, 0.086, 0.207],\n",
    "                            [0.   , 0.   , 0.   , 0.   , 1.   ]])\n",
    "\n",
    "chmm.lambdas_=df_emission_scale"
   ]
  },
  {
   "cell_type": "code",
   "execution_count": 34,
   "id": "cf0b4271",
   "metadata": {},
   "outputs": [],
   "source": [
    "df_len=df_msg_valid_final.groupby(\"conversationId\").count()['pp_category']"
   ]
  },
  {
   "cell_type": "code",
   "execution_count": 35,
   "id": "8d799ade",
   "metadata": {},
   "outputs": [
    {
     "data": {
      "text/plain": [
       "array([[0.919, 0.023, 0.022, 0.022, 0.014],\n",
       "       [0.019, 0.4  , 0.029, 0.067, 0.485],\n",
       "       [0.002, 0.716, 0.012, 0.043, 0.227],\n",
       "       [0.   , 0.7  , 0.007, 0.086, 0.207],\n",
       "       [0.   , 0.   , 0.   , 0.   , 1.   ]])"
      ]
     },
     "execution_count": 35,
     "metadata": {},
     "output_type": "execute_result"
    }
   ],
   "source": [
    "np.round(chmm.transmat_, 3)"
   ]
  },
  {
   "cell_type": "code",
   "execution_count": 303,
   "id": "c12eadd5",
   "metadata": {},
   "outputs": [
    {
     "data": {
      "text/html": [
       "<style>#sk-container-id-8 {color: black;background-color: white;}#sk-container-id-8 pre{padding: 0;}#sk-container-id-8 div.sk-toggleable {background-color: white;}#sk-container-id-8 label.sk-toggleable__label {cursor: pointer;display: block;width: 100%;margin-bottom: 0;padding: 0.3em;box-sizing: border-box;text-align: center;}#sk-container-id-8 label.sk-toggleable__label-arrow:before {content: \"▸\";float: left;margin-right: 0.25em;color: #696969;}#sk-container-id-8 label.sk-toggleable__label-arrow:hover:before {color: black;}#sk-container-id-8 div.sk-estimator:hover label.sk-toggleable__label-arrow:before {color: black;}#sk-container-id-8 div.sk-toggleable__content {max-height: 0;max-width: 0;overflow: hidden;text-align: left;background-color: #f0f8ff;}#sk-container-id-8 div.sk-toggleable__content pre {margin: 0.2em;color: black;border-radius: 0.25em;background-color: #f0f8ff;}#sk-container-id-8 input.sk-toggleable__control:checked~div.sk-toggleable__content {max-height: 200px;max-width: 100%;overflow: auto;}#sk-container-id-8 input.sk-toggleable__control:checked~label.sk-toggleable__label-arrow:before {content: \"▾\";}#sk-container-id-8 div.sk-estimator input.sk-toggleable__control:checked~label.sk-toggleable__label {background-color: #d4ebff;}#sk-container-id-8 div.sk-label input.sk-toggleable__control:checked~label.sk-toggleable__label {background-color: #d4ebff;}#sk-container-id-8 input.sk-hidden--visually {border: 0;clip: rect(1px 1px 1px 1px);clip: rect(1px, 1px, 1px, 1px);height: 1px;margin: -1px;overflow: hidden;padding: 0;position: absolute;width: 1px;}#sk-container-id-8 div.sk-estimator {font-family: monospace;background-color: #f0f8ff;border: 1px dotted black;border-radius: 0.25em;box-sizing: border-box;margin-bottom: 0.5em;}#sk-container-id-8 div.sk-estimator:hover {background-color: #d4ebff;}#sk-container-id-8 div.sk-parallel-item::after {content: \"\";width: 100%;border-bottom: 1px solid gray;flex-grow: 1;}#sk-container-id-8 div.sk-label:hover label.sk-toggleable__label {background-color: #d4ebff;}#sk-container-id-8 div.sk-serial::before {content: \"\";position: absolute;border-left: 1px solid gray;box-sizing: border-box;top: 0;bottom: 0;left: 50%;z-index: 0;}#sk-container-id-8 div.sk-serial {display: flex;flex-direction: column;align-items: center;background-color: white;padding-right: 0.2em;padding-left: 0.2em;position: relative;}#sk-container-id-8 div.sk-item {position: relative;z-index: 1;}#sk-container-id-8 div.sk-parallel {display: flex;align-items: stretch;justify-content: center;background-color: white;position: relative;}#sk-container-id-8 div.sk-item::before, #sk-container-id-8 div.sk-parallel-item::before {content: \"\";position: absolute;border-left: 1px solid gray;box-sizing: border-box;top: 0;bottom: 0;left: 50%;z-index: -1;}#sk-container-id-8 div.sk-parallel-item {display: flex;flex-direction: column;z-index: 1;position: relative;background-color: white;}#sk-container-id-8 div.sk-parallel-item:first-child::after {align-self: flex-end;width: 50%;}#sk-container-id-8 div.sk-parallel-item:last-child::after {align-self: flex-start;width: 50%;}#sk-container-id-8 div.sk-parallel-item:only-child::after {width: 0;}#sk-container-id-8 div.sk-dashed-wrapped {border: 1px dashed gray;margin: 0 0.4em 0.5em 0.4em;box-sizing: border-box;padding-bottom: 0.4em;background-color: white;}#sk-container-id-8 div.sk-label label {font-family: monospace;font-weight: bold;display: inline-block;line-height: 1.2em;}#sk-container-id-8 div.sk-label-container {text-align: center;}#sk-container-id-8 div.sk-container {/* jupyter's `normalize.less` sets `[hidden] { display: none; }` but bootstrap.min.css set `[hidden] { display: none !important; }` so we also need the `!important` here to be able to override the default hidden behavior on the sphinx rendered scikit-learn.org. See: https://github.com/scikit-learn/scikit-learn/issues/21755 */display: inline-block !important;position: relative;}#sk-container-id-8 div.sk-text-repr-fallback {display: none;}</style><div id=\"sk-container-id-8\" class=\"sk-top-container\"><div class=\"sk-text-repr-fallback\"><pre>PoissonHMM(init_params=&#x27;&#x27;, lambdas_prior=10, n_components=5, n_iter=1000,\n",
       "           params=&#x27;tl&#x27;, random_state=RandomState(MT19937) at 0x166B7B69940,\n",
       "           transmat_prior=10)</pre><b>In a Jupyter environment, please rerun this cell to show the HTML representation or trust the notebook. <br />On GitHub, the HTML representation is unable to render, please try loading this page with nbviewer.org.</b></div><div class=\"sk-container\" hidden><div class=\"sk-item\"><div class=\"sk-estimator sk-toggleable\"><input class=\"sk-toggleable__control sk-hidden--visually\" id=\"sk-estimator-id-8\" type=\"checkbox\" checked><label for=\"sk-estimator-id-8\" class=\"sk-toggleable__label sk-toggleable__label-arrow\">PoissonHMM</label><div class=\"sk-toggleable__content\"><pre>PoissonHMM(init_params=&#x27;&#x27;, lambdas_prior=10, n_components=5, n_iter=1000,\n",
       "           params=&#x27;tl&#x27;, random_state=RandomState(MT19937) at 0x166B7B69940,\n",
       "           transmat_prior=10)</pre></div></div></div></div></div>"
      ],
      "text/plain": [
       "PoissonHMM(init_params='', lambdas_prior=10, n_components=5, n_iter=1000,\n",
       "           params='tl', random_state=RandomState(MT19937) at 0x166B7B69940,\n",
       "           transmat_prior=10)"
      ]
     },
     "execution_count": 303,
     "metadata": {},
     "output_type": "execute_result"
    }
   ],
   "source": [
    "chmm.fit(X_final.toarray(), df_len)"
   ]
  },
  {
   "cell_type": "code",
   "execution_count": 304,
   "id": "a3314b7b",
   "metadata": {
    "scrolled": false
   },
   "outputs": [
    {
     "data": {
      "text/plain": [
       "ConvergenceMonitor(\n",
       "    history=[-467158.0621456213, -421468.7198040533, -412654.009695118, -407040.49886812194, -404604.937016444, -403532.5920139173, -402944.2015197065, -402553.28774570266, -402342.0365735363, -402198.40414685244, -402090.72358765214, -402026.16704162105, -401962.1991002474, -401900.0960402121, -401848.1287105764, -401793.2559318298, -401756.3510854977, -401721.52302148234, -401681.22224648553, -401624.61054555274, -401576.58236307837, -401520.0859118375, -401475.5023280467, -401448.45748818305, -401426.29253922653, -401405.41025829193, -401382.5706570659, -401362.94599531515, -401345.6820286008, -401333.08163226803, -401323.0644563154, -401315.1826495016, -401308.51917518245, -401302.37702803774, -401293.40014688927, -401278.54490671924, -401270.17511806986, -401263.7026806495, -401258.72863315174, -401254.1976680477, -401249.4014487096, -401245.0188072256, -401241.7331568342, -401239.1193462276, -401237.02400517446, -401235.2601934564, -401233.44389286806, -401231.46947717475, -401229.98380429426, -401228.9849509174, -401228.1556665266, -401227.0979339033, -401225.42283427005, -401224.06163643266, -401223.33666786685, -401222.8577395391, -401222.4947422644, -401222.2132445091, -401221.9915122019, -401221.7810363564, -401221.5272225053, -401221.2830985544, -401221.09246287524, -401220.8778769037, -401220.471639656, -401218.46147279243, -401210.94923745794, -401209.396573066, -401208.68611033185, -401207.7343681472, -401206.61929146387, -401205.53688384895, -401204.7748210734, -401204.31527313014, -401203.9556570574, -401203.562670329, -401203.03320918255, -401202.3076365669, -401201.5315094748, -401200.94946297037, -401200.57313569635, -401200.31469768635, -401200.1184848334, -401199.9584917305, -401199.82295869046, -401199.70552858437, -401199.6008379336, -401199.5026280114, -401199.4030086228, -401199.2921891263, -401199.1594445338, -401198.99802569713, -401198.8146413714, -401198.6311554219, -401198.4662446936, -401198.3218887522, -401198.19253372366, -401198.07468697004, -401197.9674569324, -401197.87030360824, -401197.78168191353, -401197.69885276404, -401197.61819647404, -401197.53554077924, -401197.44648746285, -401197.34716447385, -401197.23609577084, -401197.11723349144, -401197.0015202045, -401196.902468788, -401196.82759275724, -401196.7752203773, -401196.73890216567, -401196.7123571562, -401196.6912364386, -401196.67290840385, -401196.65581926313, -401196.6389895173, -401196.62169630046, -401196.60327147477, -401196.58294374857, -401196.55966058903, -401196.5318085892, -401196.49668106437, -401196.44935162016, -401196.38014448225, -401196.26900214073, -401196.07563963096, -401195.7416723967, -401195.2703301534, -401194.8194228833, -401194.51851940685, -401194.34646267915, -401194.2463388654, -401194.1829978038, -401194.139435328, -401194.1073916527, -401194.0824710332, -401194.0620854665, -401194.0445903002, -401194.02889372787, -401194.0142635506, -401194.000222948, -401193.9864889152, -401193.972930902, -401193.9595376241, -401193.9463858125, -401193.93360876874, -401193.92136565986, -401193.90981418994, -401193.8990895217, -401193.88929121755],\n",
       "    iter=152,\n",
       "    n_iter=1000,\n",
       "    tol=0.01,\n",
       "    verbose=False,\n",
       ")"
      ]
     },
     "execution_count": 304,
     "metadata": {},
     "output_type": "execute_result"
    }
   ],
   "source": [
    "chmm.monitor_"
   ]
  },
  {
   "cell_type": "code",
   "execution_count": 36,
   "id": "4bb5c017",
   "metadata": {},
   "outputs": [],
   "source": [
    "boW_prob = pd.DataFrame(chmm.lambdas_, columns=cv.get_feature_names_out()).transpose()"
   ]
  },
  {
   "cell_type": "code",
   "execution_count": 37,
   "id": "6df8b31b",
   "metadata": {},
   "outputs": [],
   "source": [
    "boW_prob_baseline=pd.DataFrame(df_emission_scale.to_numpy(),columns=cv.get_feature_names_out()).transpose()"
   ]
  },
  {
   "cell_type": "code",
   "execution_count": 328,
   "id": "06d939d8",
   "metadata": {},
   "outputs": [
    {
     "data": {
      "text/plain": [
       "array([[0.214, 0.569, 0.153, 0.031, 0.033],\n",
       "       [0.002, 0.49 , 0.436, 0.064, 0.008],\n",
       "       [0.002, 0.524, 0.399, 0.037, 0.039],\n",
       "       [0.   , 0.376, 0.085, 0.462, 0.077],\n",
       "       [0.   , 0.   , 0.   , 0.   , 1.   ]])"
      ]
     },
     "execution_count": 328,
     "metadata": {},
     "output_type": "execute_result"
    }
   ],
   "source": [
    "np.set_printoptions(suppress=True, precision=3)\n",
    "np.round(chmm.transmat_, 3)"
   ]
  },
  {
   "cell_type": "markdown",
   "id": "18416c26",
   "metadata": {},
   "source": [
    "# time allocation percentage"
   ]
  },
  {
   "cell_type": "code",
   "execution_count": 311,
   "id": "b7db3201",
   "metadata": {},
   "outputs": [],
   "source": [
    "lengths = df_len.tolist()\n",
    "chmm_pred_list = []\n",
    "\n",
    "start = 0\n",
    "for length in lengths:\n",
    "    end = start + length\n",
    "    subseq = X_final.toarray()[start:end]\n",
    "    chmm_pred_list.append(chmm.predict(subseq, length))\n",
    "    start = end\n",
    "    \n",
    "combined_pred_list = [item for sublist in chmm_pred_list for item in sublist]\n",
    "df_msg_valid_final['pred_stage'] = combined_pred_list"
   ]
  },
  {
   "cell_type": "code",
   "execution_count": 313,
   "id": "0900ff37",
   "metadata": {
    "scrolled": false
   },
   "outputs": [
    {
     "data": {
      "text/html": [
       "<div>\n",
       "<style scoped>\n",
       "    .dataframe tbody tr th:only-of-type {\n",
       "        vertical-align: middle;\n",
       "    }\n",
       "\n",
       "    .dataframe tbody tr th {\n",
       "        vertical-align: top;\n",
       "    }\n",
       "\n",
       "    .dataframe thead th {\n",
       "        text-align: right;\n",
       "    }\n",
       "</style>\n",
       "<table border=\"1\" class=\"dataframe\">\n",
       "  <thead>\n",
       "    <tr style=\"text-align: right;\">\n",
       "      <th></th>\n",
       "      <th>conversationId</th>\n",
       "      <th>pred_stage</th>\n",
       "      <th>time_diff_seconds_x</th>\n",
       "      <th>time_diff_seconds_y</th>\n",
       "      <th>percentage</th>\n",
       "    </tr>\n",
       "  </thead>\n",
       "  <tbody>\n",
       "    <tr>\n",
       "      <th>0</th>\n",
       "      <td>0042b140-0ffd-4d8f-aeed-b01a2a4ade01</td>\n",
       "      <td>0</td>\n",
       "      <td>502.172</td>\n",
       "      <td>1142.281</td>\n",
       "      <td>43.962212</td>\n",
       "    </tr>\n",
       "    <tr>\n",
       "      <th>1</th>\n",
       "      <td>0042b140-0ffd-4d8f-aeed-b01a2a4ade01</td>\n",
       "      <td>2</td>\n",
       "      <td>640.109</td>\n",
       "      <td>1142.281</td>\n",
       "      <td>56.037788</td>\n",
       "    </tr>\n",
       "    <tr>\n",
       "      <th>2</th>\n",
       "      <td>0042b140-0ffd-4d8f-aeed-b01a2a4ade01</td>\n",
       "      <td>4</td>\n",
       "      <td>0.000</td>\n",
       "      <td>1142.281</td>\n",
       "      <td>0.000000</td>\n",
       "    </tr>\n",
       "    <tr>\n",
       "      <th>3</th>\n",
       "      <td>00aba99a-3a7c-47e7-90c1-27340b3dcc14</td>\n",
       "      <td>0</td>\n",
       "      <td>141.160</td>\n",
       "      <td>5151.765</td>\n",
       "      <td>2.740032</td>\n",
       "    </tr>\n",
       "    <tr>\n",
       "      <th>4</th>\n",
       "      <td>00aba99a-3a7c-47e7-90c1-27340b3dcc14</td>\n",
       "      <td>1</td>\n",
       "      <td>2531.972</td>\n",
       "      <td>5151.765</td>\n",
       "      <td>49.147661</td>\n",
       "    </tr>\n",
       "    <tr>\n",
       "      <th>...</th>\n",
       "      <td>...</td>\n",
       "      <td>...</td>\n",
       "      <td>...</td>\n",
       "      <td>...</td>\n",
       "      <td>...</td>\n",
       "    </tr>\n",
       "    <tr>\n",
       "      <th>2418</th>\n",
       "      <td>ffb565f8-a619-41bd-9815-8503432c1e3e</td>\n",
       "      <td>3</td>\n",
       "      <td>0.022</td>\n",
       "      <td>6207.377</td>\n",
       "      <td>0.000354</td>\n",
       "    </tr>\n",
       "    <tr>\n",
       "      <th>2419</th>\n",
       "      <td>ffb565f8-a619-41bd-9815-8503432c1e3e</td>\n",
       "      <td>4</td>\n",
       "      <td>450.139</td>\n",
       "      <td>6207.377</td>\n",
       "      <td>7.251678</td>\n",
       "    </tr>\n",
       "    <tr>\n",
       "      <th>2420</th>\n",
       "      <td>ffe77bd6-a4ba-46f4-a1f0-f594d286cefc</td>\n",
       "      <td>0</td>\n",
       "      <td>773.360</td>\n",
       "      <td>1305.096</td>\n",
       "      <td>59.256944</td>\n",
       "    </tr>\n",
       "    <tr>\n",
       "      <th>2421</th>\n",
       "      <td>ffe77bd6-a4ba-46f4-a1f0-f594d286cefc</td>\n",
       "      <td>2</td>\n",
       "      <td>531.736</td>\n",
       "      <td>1305.096</td>\n",
       "      <td>40.743056</td>\n",
       "    </tr>\n",
       "    <tr>\n",
       "      <th>2422</th>\n",
       "      <td>ffe77bd6-a4ba-46f4-a1f0-f594d286cefc</td>\n",
       "      <td>4</td>\n",
       "      <td>0.000</td>\n",
       "      <td>1305.096</td>\n",
       "      <td>0.000000</td>\n",
       "    </tr>\n",
       "  </tbody>\n",
       "</table>\n",
       "<p>2423 rows × 5 columns</p>\n",
       "</div>"
      ],
      "text/plain": [
       "                            conversationId  pred_stage  time_diff_seconds_x  \\\n",
       "0     0042b140-0ffd-4d8f-aeed-b01a2a4ade01           0              502.172   \n",
       "1     0042b140-0ffd-4d8f-aeed-b01a2a4ade01           2              640.109   \n",
       "2     0042b140-0ffd-4d8f-aeed-b01a2a4ade01           4                0.000   \n",
       "3     00aba99a-3a7c-47e7-90c1-27340b3dcc14           0              141.160   \n",
       "4     00aba99a-3a7c-47e7-90c1-27340b3dcc14           1             2531.972   \n",
       "...                                    ...         ...                  ...   \n",
       "2418  ffb565f8-a619-41bd-9815-8503432c1e3e           3                0.022   \n",
       "2419  ffb565f8-a619-41bd-9815-8503432c1e3e           4              450.139   \n",
       "2420  ffe77bd6-a4ba-46f4-a1f0-f594d286cefc           0              773.360   \n",
       "2421  ffe77bd6-a4ba-46f4-a1f0-f594d286cefc           2              531.736   \n",
       "2422  ffe77bd6-a4ba-46f4-a1f0-f594d286cefc           4                0.000   \n",
       "\n",
       "      time_diff_seconds_y  percentage  \n",
       "0                1142.281   43.962212  \n",
       "1                1142.281   56.037788  \n",
       "2                1142.281    0.000000  \n",
       "3                5151.765    2.740032  \n",
       "4                5151.765   49.147661  \n",
       "...                   ...         ...  \n",
       "2418             6207.377    0.000354  \n",
       "2419             6207.377    7.251678  \n",
       "2420             1305.096   59.256944  \n",
       "2421             1305.096   40.743056  \n",
       "2422             1305.096    0.000000  \n",
       "\n",
       "[2423 rows x 5 columns]"
      ]
     },
     "execution_count": 313,
     "metadata": {},
     "output_type": "execute_result"
    }
   ],
   "source": [
    "# sort conversations by ID and time. Then calculate time duration between each message\n",
    "df_msg_valid_final['time_diff'] = df_msg_valid_final.sort_values(by=['conversationId', 'datetime']).groupby('conversationId')['datetime'].diff().shift(-1)\n",
    "\n",
    "# convert time duration to seconds\n",
    "df_msg_valid_final['time_diff_seconds'] = df_msg_valid_final['time_diff'].dt.total_seconds()\n",
    "\n",
    "# sum up time duration of each stage within each conversation\n",
    "stage_durations = df_msg_valid_final.groupby(['conversationId', 'pred_stage'])['time_diff_seconds'].sum().reset_index()\n",
    "\n",
    "# calculate total time duration of each conversation\n",
    "total_durations = df_msg_valid_final.groupby('conversationId')['time_diff_seconds'].sum().reset_index()\n",
    "\n",
    "# merge conversation total time duration to dataframe\n",
    "stage_durations = stage_durations.merge(total_durations, on='conversationId')\n",
    "\n",
    "# calculate percentage of each stage within each conversation\n",
    "stage_durations['percentage'] = (stage_durations['time_diff_seconds_x'] / stage_durations['time_diff_seconds_y']) * 100\n",
    "\n",
    "stage_durations"
   ]
  },
  {
   "cell_type": "code",
   "execution_count": 321,
   "id": "7f4e2217",
   "metadata": {},
   "outputs": [],
   "source": [
    "grouped = stage_durations.groupby(['pred_stage'])['percentage'].agg(['mean', 'std', 'count'])\n",
    "grouped['se'] = grouped['std'] / np.sqrt(grouped['count'])"
   ]
  },
  {
   "cell_type": "code",
   "execution_count": 327,
   "id": "8b279f0f",
   "metadata": {},
   "outputs": [
    {
     "data": {
      "text/plain": [
       "array([ 8.3, 40.7, 43.4, 16.6,  6.3])"
      ]
     },
     "execution_count": 327,
     "metadata": {},
     "output_type": "execute_result"
    }
   ],
   "source": [
    "np.round(grouped['mean'].tolist(),1)"
   ]
  },
  {
   "cell_type": "code",
   "execution_count": 326,
   "id": "a4889849",
   "metadata": {},
   "outputs": [],
   "source": [
    "stage_durations.to_excel('../data/time_allocation_each_chat_bad.xlsx', index=False)"
   ]
  }
 ],
 "metadata": {
  "kernelspec": {
   "display_name": "venv",
   "language": "python",
   "name": "venv"
  },
  "language_info": {
   "codemirror_mode": {
    "name": "ipython",
    "version": 3
   },
   "file_extension": ".py",
   "mimetype": "text/x-python",
   "name": "python",
   "nbconvert_exporter": "python",
   "pygments_lexer": "ipython3",
   "version": "3.10.9"
  }
 },
 "nbformat": 4,
 "nbformat_minor": 5
}
