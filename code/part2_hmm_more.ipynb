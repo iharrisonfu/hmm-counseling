{
 "cells": [
  {
   "cell_type": "markdown",
   "id": "8c0ec391",
   "metadata": {},
   "source": [
    "# data cleaning"
   ]
  },
  {
   "cell_type": "code",
   "execution_count": 1,
   "id": "b2958397",
   "metadata": {},
   "outputs": [],
   "source": [
    "from sklearn.decomposition import LatentDirichletAllocation\n",
    "from sklearn.feature_extraction.text import CountVectorizer\n",
    "from sklearn.feature_extraction.text import TfidfVectorizer,  TfidfTransformer\n",
    "import jieba\n",
    "from pycantonese.word_segmentation import Segmenter\n",
    "import pycantonese\n",
    "import pandas as pd\n",
    "from gensim.models import Word2Vec\n",
    "from sklearn.metrics.pairwise import cosine_similarity\n",
    "import numpy as np\n",
    "import pickle\n",
    "import re\n",
    "\n",
    "import warnings\n",
    "warnings.filterwarnings('ignore')"
   ]
  },
  {
   "cell_type": "code",
   "execution_count": 2,
   "id": "e59fbbb6",
   "metadata": {
    "scrolled": true
   },
   "outputs": [],
   "source": [
    "df_msg_valid = pd.read_excel('../data/good_bad_chat_history_total_20240117.xlsx')"
   ]
  },
  {
   "cell_type": "code",
   "execution_count": 3,
   "id": "eebff918",
   "metadata": {},
   "outputs": [],
   "source": [
    "df_pp_count = df_msg_valid.drop_duplicates(subset=['conversationId'])[['conversationId', 'max_pp']]\n",
    "df_pp_count_des = df_pp_count.describe()"
   ]
  },
  {
   "cell_type": "code",
   "execution_count": 4,
   "id": "df761056",
   "metadata": {},
   "outputs": [],
   "source": [
    "import seaborn as sns\n",
    "import matplotlib.pyplot as plt\n",
    "plt.rcParams['font.sans-serif']=['Microsoft JhengHei']"
   ]
  },
  {
   "cell_type": "code",
   "execution_count": 5,
   "id": "708b498d",
   "metadata": {},
   "outputs": [
    {
     "data": {
      "text/plain": [
       "<seaborn.axisgrid.FacetGrid at 0x2856283fe20>"
      ]
     },
     "execution_count": 5,
     "metadata": {},
     "output_type": "execute_result"
    },
    {
     "data": {
      "image/png": "[encoded data removed]",
      "text/plain": [
       "<Figure size 500x500 with 1 Axes>"
      ]
     },
     "metadata": {},
     "output_type": "display_data"
    }
   ],
   "source": [
    "sns.displot(df_pp_count, x='max_pp')"
   ]
  },
  {
   "cell_type": "code",
   "execution_count": 6,
   "id": "64d26a0b",
   "metadata": {},
   "outputs": [
    {
     "name": "stdout",
     "output_type": "stream",
     "text": [
      "131.5\n"
     ]
    }
   ],
   "source": [
    "# calculate Interquantile Range\n",
    "print(df_pp_count_des.loc['75%','max_pp']+1.5*(df_pp_count_des.loc['75%','max_pp']-df_pp_count_des.loc['25%','max_pp']))"
   ]
  },
  {
   "cell_type": "code",
   "execution_count": 7,
   "id": "893f3c09",
   "metadata": {},
   "outputs": [
    {
     "data": {
      "text/plain": [
       "2589"
      ]
     },
     "execution_count": 7,
     "metadata": {},
     "output_type": "execute_result"
    }
   ],
   "source": [
    "# select sessions with total message exchange count no less than 4 and remove outliers using 1.5*IQR to ensure data balance\n",
    "valid_convId_pp = df_pp_count[(df_pp_count['max_pp']>=4)&(df_pp_count['max_pp']<=132)]['conversationId'].tolist()\n",
    "len(valid_convId_pp)"
   ]
  },
  {
   "cell_type": "code",
   "execution_count": 8,
   "id": "8e2453e5",
   "metadata": {
    "scrolled": false
   },
   "outputs": [
    {
     "data": {
      "text/plain": [
       "<seaborn.axisgrid.FacetGrid at 0x28570af3820>"
      ]
     },
     "execution_count": 8,
     "metadata": {},
     "output_type": "execute_result"
    },
    {
     "data": {
      "image/png": "[encoded data removed]",
      "text/plain": [
       "<Figure size 500x500 with 1 Axes>"
      ]
     },
     "metadata": {},
     "output_type": "display_data"
    }
   ],
   "source": [
    "# draw distribution of total message exchange count after removing outliers\n",
    "df_pp = df_msg_valid[(df_msg_valid['conversationId'].isin(valid_convId_pp))].drop_duplicates(subset=['conversationId'])\n",
    "sns.displot(df_pp, x='max_pp')"
   ]
  },
  {
   "cell_type": "code",
   "execution_count": 9,
   "id": "244ddb5f",
   "metadata": {
    "scrolled": true
   },
   "outputs": [],
   "source": [
    "df_msg_validd = df_msg_valid[(df_msg_valid['conversationId'].isin(valid_convId_pp))]\n",
    "df_msg_validd.reset_index(inplace=True, drop=True)"
   ]
  },
  {
   "cell_type": "code",
   "execution_count": 10,
   "id": "463e68b7",
   "metadata": {},
   "outputs": [
    {
     "data": {
      "text/plain": [
       "good    1993\n",
       "bad      596\n",
       "Name: quality, dtype: int64"
      ]
     },
     "execution_count": 10,
     "metadata": {},
     "output_type": "execute_result"
    }
   ],
   "source": [
    "good_bad_count = df_msg_validd.drop_duplicates(subset=['conversationId'])\n",
    "good_bad_count['quality'].value_counts()"
   ]
  },
  {
   "cell_type": "markdown",
   "id": "550ab111",
   "metadata": {},
   "source": [
    "# data processing"
   ]
  },
  {
   "cell_type": "code",
   "execution_count": 11,
   "id": "569516fd",
   "metadata": {
    "scrolled": true
   },
   "outputs": [],
   "source": [
    "df_msg_valid = df_msg_validd.copy()"
   ]
  },
  {
   "cell_type": "code",
   "execution_count": 12,
   "id": "d1793dbd",
   "metadata": {
    "scrolled": true
   },
   "outputs": [],
   "source": [
    "df_msg_valid = df_msg_valid[(df_msg_valid['conversationId'].isin(good_bad_count[(good_bad_count['quality'] == 'good')]['conversationId'].tolist()))]"
   ]
  },
  {
   "cell_type": "code",
   "execution_count": 13,
   "id": "8d87b4ba",
   "metadata": {
    "scrolled": true
   },
   "outputs": [],
   "source": [
    "df_msg_valid['msg_token_list'] = None\n",
    "for i in range(len(df_msg_valid['msg_token'])):\n",
    "    df_msg_valid['msg_token_list'][i] = df_msg_valid['msg_token'][i].split(' ')"
   ]
  },
  {
   "cell_type": "code",
   "execution_count": 14,
   "id": "0a30f59a",
   "metadata": {},
   "outputs": [],
   "source": [
    "df_msg_valid=df_msg_valid.assign(pp_percentage=df_msg_valid['pp']/df_msg_valid['max_pp'])"
   ]
  },
  {
   "cell_type": "code",
   "execution_count": 15,
   "id": "4951c0e8",
   "metadata": {
    "scrolled": true
   },
   "outputs": [],
   "source": [
    "# split session into equal fifth\n",
    "def df_label_category(df, cat):\n",
    "    labels = np.arange(len(cat)-1)\n",
    "    category = [0, 0.2, 0.4, 0.6, 0.8, 1.0]\n",
    "    df['pp_category'] = pd.cut(df['pp_percentage'], labels=labels, bins=category, include_lowest=True)\n",
    "    return df\n",
    "\n",
    "n_stage=6\n",
    "df_msg_valid=df_msg_valid.pipe(df_label_category, np.linspace(0, 1 , n_stage) )"
   ]
  },
  {
   "cell_type": "code",
   "execution_count": 17,
   "id": "3c6dfd3b",
   "metadata": {},
   "outputs": [],
   "source": [
    "df_msg_valid = df_msg_valid[['conversationId', 'from_whom', 'datetime', 'msg_replace', 'msg_token', 'msg_token_list', 'pp', 'max_pp', 'pp_percentage', 'pp_category']]"
   ]
  },
  {
   "cell_type": "code",
   "execution_count": 18,
   "id": "1fb2ede7",
   "metadata": {
    "scrolled": true
   },
   "outputs": [],
   "source": [
    "for i in range(len(df_msg_valid['msg_token_list'])):\n",
    "    if df_msg_valid['from_whom'][i] == True:\n",
    "        for j in range(len(df_msg_valid['msg_token_list'][i])):\n",
    "            df_msg_valid['msg_token_list'][i][j] = 'H' + df_msg_valid['msg_token_list'][i][j]\n",
    "    else:\n",
    "        for j in range(len(df_msg_valid['msg_token_list'][i])):\n",
    "            df_msg_valid['msg_token_list'][i][j] = 'C' + df_msg_valid['msg_token_list'][i][j]"
   ]
  },
  {
   "cell_type": "code",
   "execution_count": 19,
   "id": "9040648c",
   "metadata": {
    "scrolled": true
   },
   "outputs": [],
   "source": [
    "df_msg_valid['msg_token'] = [' '.join(i) for i in df_msg_valid['msg_token_list']]"
   ]
  },
  {
   "cell_type": "code",
   "execution_count": 20,
   "id": "737908b1",
   "metadata": {},
   "outputs": [],
   "source": [
    "df_msg_valid['pp_category'] = df_msg_valid['pp_category'].fillna(0)"
   ]
  },
  {
   "cell_type": "markdown",
   "id": "3a3ff41e",
   "metadata": {},
   "source": [
    "# hmm training"
   ]
  },
  {
   "cell_type": "markdown",
   "id": "78513f8a",
   "metadata": {},
   "source": [
    "## message-based tf-idf"
   ]
  },
  {
   "cell_type": "code",
   "execution_count": 21,
   "id": "ae69d521",
   "metadata": {},
   "outputs": [],
   "source": [
    "# Instantiate TfidfVectorizer with custom stopwords\n",
    "tfidf_vectorizer = TfidfVectorizer(token_pattern='\\\\b\\\\w+\\\\b', min_df=2)  # , stop_words = list(low_freq_words)min_df to avoid very rare words\n",
    "\n",
    "# Fit and transform the data\n",
    "tfidf_matrix = tfidf_vectorizer.fit_transform(df_msg_valid['msg_token'])\n",
    "\n",
    "# Get feature names and their corresponding TF-IDF scores\n",
    "feature_names = tfidf_vectorizer.get_feature_names_out()\n",
    "tfidf_scores = np.asarray(tfidf_matrix.sum(axis=0)).flatten()\n",
    "\n",
    "# Create a DataFrame for TF-IDF scores\n",
    "tfidf_df = pd.DataFrame({'word': feature_names, 'score': tfidf_scores})"
   ]
  },
  {
   "cell_type": "code",
   "execution_count": 23,
   "id": "89960bb4",
   "metadata": {},
   "outputs": [],
   "source": [
    "# Filter based on a score threshold (3rd quantile)\n",
    "threshold = tfidf_df['score'].describe()['75%']\n",
    "\n",
    "low_tfidf_words = list(tfidf_df.loc[tfidf_df['score']<threshold]['word'])"
   ]
  },
  {
   "cell_type": "code",
   "execution_count": 24,
   "id": "fb4fe030",
   "metadata": {},
   "outputs": [],
   "source": [
    "cv = CountVectorizer(min_df = 2, max_df = 1.0, token_pattern ='\\\\b\\\\w+\\\\b', stop_words = low_tfidf_words) #+list(low_freq_words)\n",
    "cv.fit(df_msg_valid['msg_token'])\n",
    "X = cv.transform(df_msg_valid['msg_token'])"
   ]
  },
  {
   "cell_type": "code",
   "execution_count": 25,
   "id": "cfb21769",
   "metadata": {},
   "outputs": [
    {
     "data": {
      "text/plain": [
       "<166539x5883 sparse matrix of type '<class 'numpy.int64'>'\n",
       "\twith 471184 stored elements in Compressed Sparse Row format>"
      ]
     },
     "execution_count": 25,
     "metadata": {},
     "output_type": "execute_result"
    }
   ],
   "source": [
    "X"
   ]
  },
  {
   "cell_type": "markdown",
   "id": "637a1615",
   "metadata": {},
   "source": [
    "## remove messages with no bags-of-words"
   ]
  },
  {
   "cell_type": "code",
   "execution_count": 27,
   "id": "36bd417c",
   "metadata": {},
   "outputs": [],
   "source": [
    "## Remove conversation without any BoW inside\n",
    "threshold = 1\n",
    "X_final = X[np.where(X.sum(axis=1) > threshold)[0],:]\n",
    "df_msg_valid_final = df_msg_valid.iloc[np.where(X.sum(axis=1) > threshold)[0],:]\n",
    "df_msg_valid_final.reset_index(inplace = True, drop = True)"
   ]
  },
  {
   "cell_type": "code",
   "execution_count": 28,
   "id": "5e9462bb",
   "metadata": {},
   "outputs": [
    {
     "data": {
      "text/plain": [
       "<70968x5883 sparse matrix of type '<class 'numpy.int64'>'\n",
       "\twith 346759 stored elements in Compressed Sparse Row format>"
      ]
     },
     "execution_count": 28,
     "metadata": {},
     "output_type": "execute_result"
    }
   ],
   "source": [
    "X_final"
   ]
  },
  {
   "cell_type": "code",
   "execution_count": 30,
   "id": "51c4ece6",
   "metadata": {},
   "outputs": [],
   "source": [
    "final_conv_msg_count = pd.DataFrame(df_msg_valid_final['conversationId'].value_counts())\n",
    "final_conv_msg_count.reset_index(inplace=True,drop=False)"
   ]
  },
  {
   "cell_type": "markdown",
   "id": "6ae66d60",
   "metadata": {},
   "source": [
    "# prepare emission probability matrix"
   ]
  },
  {
   "cell_type": "code",
   "execution_count": 31,
   "id": "aa5af1eb",
   "metadata": {},
   "outputs": [],
   "source": [
    "emission=pd.DataFrame(X_final.toarray())\n",
    "df_msg_valid_final.pp_category=df_msg_valid_final.pp_category.astype(int)\n",
    "emission[\"stage\"]=df_msg_valid_final.pp_category"
   ]
  },
  {
   "cell_type": "code",
   "execution_count": 32,
   "id": "06aa79ba",
   "metadata": {},
   "outputs": [],
   "source": [
    "emission=emission.groupby('stage').sum()"
   ]
  },
  {
   "cell_type": "code",
   "execution_count": 33,
   "id": "9b323524",
   "metadata": {},
   "outputs": [],
   "source": [
    "emission+=1"
   ]
  },
  {
   "cell_type": "code",
   "execution_count": 34,
   "id": "14c019b9",
   "metadata": {},
   "outputs": [
    {
     "data": {
      "text/html": [
       "<div>\n",
       "<style scoped>\n",
       "    .dataframe tbody tr th:only-of-type {\n",
       "        vertical-align: middle;\n",
       "    }\n",
       "\n",
       "    .dataframe tbody tr th {\n",
       "        vertical-align: top;\n",
       "    }\n",
       "\n",
       "    .dataframe thead th {\n",
       "        text-align: right;\n",
       "    }\n",
       "</style>\n",
       "<table border=\"1\" class=\"dataframe\">\n",
       "  <thead>\n",
       "    <tr style=\"text-align: right;\">\n",
       "      <th></th>\n",
       "      <th>0</th>\n",
       "      <th>1</th>\n",
       "      <th>2</th>\n",
       "      <th>3</th>\n",
       "      <th>4</th>\n",
       "      <th>5</th>\n",
       "      <th>6</th>\n",
       "      <th>7</th>\n",
       "      <th>8</th>\n",
       "      <th>9</th>\n",
       "      <th>...</th>\n",
       "      <th>5873</th>\n",
       "      <th>5874</th>\n",
       "      <th>5875</th>\n",
       "      <th>5876</th>\n",
       "      <th>5877</th>\n",
       "      <th>5878</th>\n",
       "      <th>5879</th>\n",
       "      <th>5880</th>\n",
       "      <th>5881</th>\n",
       "      <th>5882</th>\n",
       "    </tr>\n",
       "    <tr>\n",
       "      <th>stage</th>\n",
       "      <th></th>\n",
       "      <th></th>\n",
       "      <th></th>\n",
       "      <th></th>\n",
       "      <th></th>\n",
       "      <th></th>\n",
       "      <th></th>\n",
       "      <th></th>\n",
       "      <th></th>\n",
       "      <th></th>\n",
       "      <th></th>\n",
       "      <th></th>\n",
       "      <th></th>\n",
       "      <th></th>\n",
       "      <th></th>\n",
       "      <th></th>\n",
       "      <th></th>\n",
       "      <th></th>\n",
       "      <th></th>\n",
       "      <th></th>\n",
       "      <th></th>\n",
       "    </tr>\n",
       "  </thead>\n",
       "  <tbody>\n",
       "    <tr>\n",
       "      <th>0</th>\n",
       "      <td>14</td>\n",
       "      <td>4</td>\n",
       "      <td>28</td>\n",
       "      <td>25</td>\n",
       "      <td>5</td>\n",
       "      <td>1</td>\n",
       "      <td>2</td>\n",
       "      <td>1</td>\n",
       "      <td>9</td>\n",
       "      <td>1</td>\n",
       "      <td>...</td>\n",
       "      <td>65</td>\n",
       "      <td>1</td>\n",
       "      <td>27</td>\n",
       "      <td>18</td>\n",
       "      <td>1</td>\n",
       "      <td>4</td>\n",
       "      <td>16</td>\n",
       "      <td>8</td>\n",
       "      <td>12</td>\n",
       "      <td>6</td>\n",
       "    </tr>\n",
       "    <tr>\n",
       "      <th>1</th>\n",
       "      <td>20</td>\n",
       "      <td>2</td>\n",
       "      <td>27</td>\n",
       "      <td>42</td>\n",
       "      <td>8</td>\n",
       "      <td>1</td>\n",
       "      <td>2</td>\n",
       "      <td>1</td>\n",
       "      <td>20</td>\n",
       "      <td>2</td>\n",
       "      <td>...</td>\n",
       "      <td>46</td>\n",
       "      <td>2</td>\n",
       "      <td>25</td>\n",
       "      <td>2</td>\n",
       "      <td>3</td>\n",
       "      <td>7</td>\n",
       "      <td>18</td>\n",
       "      <td>11</td>\n",
       "      <td>20</td>\n",
       "      <td>2</td>\n",
       "    </tr>\n",
       "    <tr>\n",
       "      <th>2</th>\n",
       "      <td>19</td>\n",
       "      <td>2</td>\n",
       "      <td>36</td>\n",
       "      <td>29</td>\n",
       "      <td>9</td>\n",
       "      <td>2</td>\n",
       "      <td>6</td>\n",
       "      <td>1</td>\n",
       "      <td>21</td>\n",
       "      <td>2</td>\n",
       "      <td>...</td>\n",
       "      <td>38</td>\n",
       "      <td>4</td>\n",
       "      <td>18</td>\n",
       "      <td>5</td>\n",
       "      <td>2</td>\n",
       "      <td>4</td>\n",
       "      <td>13</td>\n",
       "      <td>4</td>\n",
       "      <td>20</td>\n",
       "      <td>6</td>\n",
       "    </tr>\n",
       "    <tr>\n",
       "      <th>3</th>\n",
       "      <td>10</td>\n",
       "      <td>1</td>\n",
       "      <td>62</td>\n",
       "      <td>32</td>\n",
       "      <td>13</td>\n",
       "      <td>3</td>\n",
       "      <td>2</td>\n",
       "      <td>1</td>\n",
       "      <td>19</td>\n",
       "      <td>4</td>\n",
       "      <td>...</td>\n",
       "      <td>13</td>\n",
       "      <td>2</td>\n",
       "      <td>11</td>\n",
       "      <td>3</td>\n",
       "      <td>1</td>\n",
       "      <td>5</td>\n",
       "      <td>16</td>\n",
       "      <td>4</td>\n",
       "      <td>18</td>\n",
       "      <td>3</td>\n",
       "    </tr>\n",
       "    <tr>\n",
       "      <th>4</th>\n",
       "      <td>12</td>\n",
       "      <td>7</td>\n",
       "      <td>35</td>\n",
       "      <td>48</td>\n",
       "      <td>20</td>\n",
       "      <td>6</td>\n",
       "      <td>4</td>\n",
       "      <td>11</td>\n",
       "      <td>22</td>\n",
       "      <td>4</td>\n",
       "      <td>...</td>\n",
       "      <td>7</td>\n",
       "      <td>1</td>\n",
       "      <td>4</td>\n",
       "      <td>3</td>\n",
       "      <td>2</td>\n",
       "      <td>6</td>\n",
       "      <td>11</td>\n",
       "      <td>2</td>\n",
       "      <td>12</td>\n",
       "      <td>2</td>\n",
       "    </tr>\n",
       "  </tbody>\n",
       "</table>\n",
       "<p>5 rows × 5883 columns</p>\n",
       "</div>"
      ],
      "text/plain": [
       "       0     1     2     3     4     5     6     7     8     9     ...  5873  \\\n",
       "stage                                                              ...         \n",
       "0        14     4    28    25     5     1     2     1     9     1  ...    65   \n",
       "1        20     2    27    42     8     1     2     1    20     2  ...    46   \n",
       "2        19     2    36    29     9     2     6     1    21     2  ...    38   \n",
       "3        10     1    62    32    13     3     2     1    19     4  ...    13   \n",
       "4        12     7    35    48    20     6     4    11    22     4  ...     7   \n",
       "\n",
       "       5874  5875  5876  5877  5878  5879  5880  5881  5882  \n",
       "stage                                                        \n",
       "0         1    27    18     1     4    16     8    12     6  \n",
       "1         2    25     2     3     7    18    11    20     2  \n",
       "2         4    18     5     2     4    13     4    20     6  \n",
       "3         2    11     3     1     5    16     4    18     3  \n",
       "4         1     4     3     2     6    11     2    12     2  \n",
       "\n",
       "[5 rows x 5883 columns]"
      ]
     },
     "execution_count": 34,
     "metadata": {},
     "output_type": "execute_result"
    }
   ],
   "source": [
    "emission"
   ]
  },
  {
   "cell_type": "markdown",
   "id": "a26eed13",
   "metadata": {},
   "source": [
    "# training HMM"
   ]
  },
  {
   "cell_type": "code",
   "execution_count": 35,
   "id": "b4d396fd",
   "metadata": {},
   "outputs": [],
   "source": [
    "import hmmlearn as hmmlearn\n",
    "from hmmlearn import hmm\n",
    "from hmmlearn.base import ConvergenceMonitor"
   ]
  },
  {
   "cell_type": "code",
   "execution_count": 36,
   "id": "1a93ecea",
   "metadata": {},
   "outputs": [],
   "source": [
    "df_emission_scale=emission.apply(lambda x:x/emission.sum(axis=1),axis=0)\n",
    "\n",
    "## 5 stage HMM\n",
    "chmm=hmmlearn.hmm.PoissonHMM(n_components=5,params ='tl', init_params='', n_iter=1000, implementation ='log' ,transmat_prior=10, lambdas_prior=10)\n",
    "chmm.startprob_=np.array([1, 0, 0, 0, 0])\n",
    "\n",
    "chmm.transmat_ = np.array([[0.55 , 0.254, 0.114, 0.074, 0.008],\n",
    "                            [0.002, 0.414, 0.5  , 0.075, 0.009],\n",
    "                            [0.002, 0.352, 0.394, 0.232, 0.02 ],\n",
    "                            [0.   , 0.088, 0.39 , 0.392, 0.13 ],\n",
    "                            [0.   , 0.   , 0.   , 0.   , 1.   ]])\n",
    "\n",
    "chmm.lambdas_=df_emission_scale\n",
    "\n",
    "# with open(\"../models/poisson4stagehmm.pkl\", \"rb\") as file: chmm=pickle.load(file)"
   ]
  },
  {
   "cell_type": "code",
   "execution_count": 37,
   "id": "cf0b4271",
   "metadata": {},
   "outputs": [],
   "source": [
    "df_len=df_msg_valid_final.groupby(\"conversationId\").count()['pp_category']"
   ]
  },
  {
   "cell_type": "code",
   "execution_count": 38,
   "id": "8d799ade",
   "metadata": {},
   "outputs": [
    {
     "data": {
      "text/plain": [
       "array([[0.55 , 0.254, 0.114, 0.074, 0.008],\n",
       "       [0.002, 0.414, 0.5  , 0.075, 0.009],\n",
       "       [0.002, 0.352, 0.394, 0.232, 0.02 ],\n",
       "       [0.   , 0.088, 0.39 , 0.392, 0.13 ],\n",
       "       [0.   , 0.   , 0.   , 0.   , 1.   ]])"
      ]
     },
     "execution_count": 38,
     "metadata": {},
     "output_type": "execute_result"
    }
   ],
   "source": [
    "np.round(chmm.transmat_, 3)"
   ]
  },
  {
   "cell_type": "code",
   "execution_count": 511,
   "id": "c12eadd5",
   "metadata": {},
   "outputs": [
    {
     "data": {
      "text/html": [
       "<style>#sk-container-id-16 {color: black;background-color: white;}#sk-container-id-16 pre{padding: 0;}#sk-container-id-16 div.sk-toggleable {background-color: white;}#sk-container-id-16 label.sk-toggleable__label {cursor: pointer;display: block;width: 100%;margin-bottom: 0;padding: 0.3em;box-sizing: border-box;text-align: center;}#sk-container-id-16 label.sk-toggleable__label-arrow:before {content: \"▸\";float: left;margin-right: 0.25em;color: #696969;}#sk-container-id-16 label.sk-toggleable__label-arrow:hover:before {color: black;}#sk-container-id-16 div.sk-estimator:hover label.sk-toggleable__label-arrow:before {color: black;}#sk-container-id-16 div.sk-toggleable__content {max-height: 0;max-width: 0;overflow: hidden;text-align: left;background-color: #f0f8ff;}#sk-container-id-16 div.sk-toggleable__content pre {margin: 0.2em;color: black;border-radius: 0.25em;background-color: #f0f8ff;}#sk-container-id-16 input.sk-toggleable__control:checked~div.sk-toggleable__content {max-height: 200px;max-width: 100%;overflow: auto;}#sk-container-id-16 input.sk-toggleable__control:checked~label.sk-toggleable__label-arrow:before {content: \"▾\";}#sk-container-id-16 div.sk-estimator input.sk-toggleable__control:checked~label.sk-toggleable__label {background-color: #d4ebff;}#sk-container-id-16 div.sk-label input.sk-toggleable__control:checked~label.sk-toggleable__label {background-color: #d4ebff;}#sk-container-id-16 input.sk-hidden--visually {border: 0;clip: rect(1px 1px 1px 1px);clip: rect(1px, 1px, 1px, 1px);height: 1px;margin: -1px;overflow: hidden;padding: 0;position: absolute;width: 1px;}#sk-container-id-16 div.sk-estimator {font-family: monospace;background-color: #f0f8ff;border: 1px dotted black;border-radius: 0.25em;box-sizing: border-box;margin-bottom: 0.5em;}#sk-container-id-16 div.sk-estimator:hover {background-color: #d4ebff;}#sk-container-id-16 div.sk-parallel-item::after {content: \"\";width: 100%;border-bottom: 1px solid gray;flex-grow: 1;}#sk-container-id-16 div.sk-label:hover label.sk-toggleable__label {background-color: #d4ebff;}#sk-container-id-16 div.sk-serial::before {content: \"\";position: absolute;border-left: 1px solid gray;box-sizing: border-box;top: 0;bottom: 0;left: 50%;z-index: 0;}#sk-container-id-16 div.sk-serial {display: flex;flex-direction: column;align-items: center;background-color: white;padding-right: 0.2em;padding-left: 0.2em;position: relative;}#sk-container-id-16 div.sk-item {position: relative;z-index: 1;}#sk-container-id-16 div.sk-parallel {display: flex;align-items: stretch;justify-content: center;background-color: white;position: relative;}#sk-container-id-16 div.sk-item::before, #sk-container-id-16 div.sk-parallel-item::before {content: \"\";position: absolute;border-left: 1px solid gray;box-sizing: border-box;top: 0;bottom: 0;left: 50%;z-index: -1;}#sk-container-id-16 div.sk-parallel-item {display: flex;flex-direction: column;z-index: 1;position: relative;background-color: white;}#sk-container-id-16 div.sk-parallel-item:first-child::after {align-self: flex-end;width: 50%;}#sk-container-id-16 div.sk-parallel-item:last-child::after {align-self: flex-start;width: 50%;}#sk-container-id-16 div.sk-parallel-item:only-child::after {width: 0;}#sk-container-id-16 div.sk-dashed-wrapped {border: 1px dashed gray;margin: 0 0.4em 0.5em 0.4em;box-sizing: border-box;padding-bottom: 0.4em;background-color: white;}#sk-container-id-16 div.sk-label label {font-family: monospace;font-weight: bold;display: inline-block;line-height: 1.2em;}#sk-container-id-16 div.sk-label-container {text-align: center;}#sk-container-id-16 div.sk-container {/* jupyter's `normalize.less` sets `[hidden] { display: none; }` but bootstrap.min.css set `[hidden] { display: none !important; }` so we also need the `!important` here to be able to override the default hidden behavior on the sphinx rendered scikit-learn.org. See: https://github.com/scikit-learn/scikit-learn/issues/21755 */display: inline-block !important;position: relative;}#sk-container-id-16 div.sk-text-repr-fallback {display: none;}</style><div id=\"sk-container-id-16\" class=\"sk-top-container\"><div class=\"sk-text-repr-fallback\"><pre>PoissonHMM(init_params=&#x27;&#x27;, lambdas_prior=10, n_components=5, n_iter=1000,\n",
       "           params=&#x27;tl&#x27;, random_state=RandomState(MT19937) at 0x283D011D940,\n",
       "           transmat_prior=10)</pre><b>In a Jupyter environment, please rerun this cell to show the HTML representation or trust the notebook. <br />On GitHub, the HTML representation is unable to render, please try loading this page with nbviewer.org.</b></div><div class=\"sk-container\" hidden><div class=\"sk-item\"><div class=\"sk-estimator sk-toggleable\"><input class=\"sk-toggleable__control sk-hidden--visually\" id=\"sk-estimator-id-16\" type=\"checkbox\" checked><label for=\"sk-estimator-id-16\" class=\"sk-toggleable__label sk-toggleable__label-arrow\">PoissonHMM</label><div class=\"sk-toggleable__content\"><pre>PoissonHMM(init_params=&#x27;&#x27;, lambdas_prior=10, n_components=5, n_iter=1000,\n",
       "           params=&#x27;tl&#x27;, random_state=RandomState(MT19937) at 0x283D011D940,\n",
       "           transmat_prior=10)</pre></div></div></div></div></div>"
      ],
      "text/plain": [
       "PoissonHMM(init_params='', lambdas_prior=10, n_components=5, n_iter=1000,\n",
       "           params='tl', random_state=RandomState(MT19937) at 0x283D011D940,\n",
       "           transmat_prior=10)"
      ]
     },
     "execution_count": 511,
     "metadata": {},
     "output_type": "execute_result"
    }
   ],
   "source": [
    "chmm.fit(X_final.toarray(), df_len)"
   ]
  },
  {
   "cell_type": "code",
   "execution_count": 512,
   "id": "a3314b7b",
   "metadata": {
    "scrolled": true
   },
   "outputs": [
    {
     "data": {
      "text/plain": [
       "ConvergenceMonitor(\n",
       "    history=[-1324596.1430187593, -1150612.4212721812, -1128197.950655795, -1120184.1708452103, -1116393.4289782909, -1114466.453173902, -1113611.8847167369, -1113069.4985685314, -1112669.9755777426, -1112373.115044632, -1112147.7208559029, -1111964.6308135767, -1111808.0706783617, -1111675.633848116, -1111556.9230601564, -1111462.971085113, -1111391.8140141948, -1111328.2301068623, -1111268.6086985632, -1111213.5236014985, -1111166.529696517, -1111125.0747455566, -1111094.061503888, -1111069.6773637633, -1111050.4863894798, -1111031.7975409385, -1111017.007284432, -1111007.6163258653, -1111000.9180528063, -1110995.6947000592, -1110991.7906549121, -1110989.1357573655, -1110987.4011289051, -1110985.9984314512, -1110984.7590476205, -1110983.5096222234, -1110982.162156419, -1110980.740398699, -1110978.7038731643, -1110976.686239416, -1110975.8060836813, -1110975.2768645773, -1110974.8617525327, -1110974.481115497, -1110974.1233092712, -1110973.8158273424, -1110973.5972213268, -1110973.4613966516, -1110973.3452363, -1110973.1619688806, -1110972.8794595515, -1110972.5730859993, -1110972.2663083693, -1110971.657740907, -1110969.799505572, -1110967.2277407413, -1110963.124225162, -1110960.1871838216, -1110958.7018732533, -1110957.6768320913, -1110956.9138156592, -1110956.3365011225, -1110955.8975898928, -1110955.5624122373, -1110955.3055891392, -1110955.1085150065, -1110954.9566253063, -1110954.837538728, -1110954.7410086286, -1110954.6608100315, -1110954.5972801768, -1110954.5574607789, -1110954.550416545],\n",
       "    iter=73,\n",
       "    n_iter=1000,\n",
       "    tol=0.01,\n",
       "    verbose=False,\n",
       ")"
      ]
     },
     "execution_count": 512,
     "metadata": {},
     "output_type": "execute_result"
    }
   ],
   "source": [
    "chmm.monitor_"
   ]
  },
  {
   "cell_type": "code",
   "execution_count": 40,
   "id": "4bb5c017",
   "metadata": {},
   "outputs": [],
   "source": [
    "boW_prob = pd.DataFrame(chmm.lambdas_, columns=cv.get_feature_names_out()).transpose()"
   ]
  },
  {
   "cell_type": "code",
   "execution_count": 41,
   "id": "6df8b31b",
   "metadata": {},
   "outputs": [],
   "source": [
    "boW_prob_baseline=pd.DataFrame(df_emission_scale.to_numpy(),columns=cv.get_feature_names_out()).transpose()"
   ]
  },
  {
   "cell_type": "code",
   "execution_count": 559,
   "id": "5823c261",
   "metadata": {},
   "outputs": [
    {
     "data": {
      "text/plain": [
       "array([[0.0526, 0.3159, 0.3525, 0.2682, 0.0108],\n",
       "       [0.0025, 0.4251, 0.1068, 0.4552, 0.0104],\n",
       "       [0.0017, 0.0502, 0.4045, 0.5212, 0.0224],\n",
       "       [0.    , 0.1754, 0.3166, 0.4745, 0.0335],\n",
       "       [0.    , 0.    , 0.    , 0.    , 1.    ]])"
      ]
     },
     "execution_count": 559,
     "metadata": {},
     "output_type": "execute_result"
    }
   ],
   "source": [
    "np.set_printoptions(suppress=True, precision=4)\n",
    "np.round(chmm.transmat_, 4)"
   ]
  },
  {
   "cell_type": "markdown",
   "id": "e60da648",
   "metadata": {},
   "source": [
    "# stage time allocation percentage"
   ]
  },
  {
   "cell_type": "code",
   "execution_count": 519,
   "id": "f93b8d9f",
   "metadata": {},
   "outputs": [],
   "source": [
    "lengths = df_len.tolist()\n",
    "chmm_pred_list = []\n",
    "\n",
    "start = 0\n",
    "for length in lengths:\n",
    "    end = start + length\n",
    "    subseq = X_final.toarray()[start:end]\n",
    "    chmm_pred_list.append(chmm.predict(subseq, length))\n",
    "    start = end\n",
    "    \n",
    "combined_pred_list = [item for sublist in chmm_pred_list for item in sublist]\n",
    "df_msg_valid_final['pred_stage'] = combined_pred_list"
   ]
  },
  {
   "cell_type": "code",
   "execution_count": 521,
   "id": "2ee315dc",
   "metadata": {},
   "outputs": [
    {
     "data": {
      "text/html": [
       "<div>\n",
       "<style scoped>\n",
       "    .dataframe tbody tr th:only-of-type {\n",
       "        vertical-align: middle;\n",
       "    }\n",
       "\n",
       "    .dataframe tbody tr th {\n",
       "        vertical-align: top;\n",
       "    }\n",
       "\n",
       "    .dataframe thead th {\n",
       "        text-align: right;\n",
       "    }\n",
       "</style>\n",
       "<table border=\"1\" class=\"dataframe\">\n",
       "  <thead>\n",
       "    <tr style=\"text-align: right;\">\n",
       "      <th></th>\n",
       "      <th>conversationId</th>\n",
       "      <th>pred_stage</th>\n",
       "      <th>time_diff_seconds_x</th>\n",
       "      <th>time_diff_seconds_y</th>\n",
       "      <th>percentage</th>\n",
       "    </tr>\n",
       "  </thead>\n",
       "  <tbody>\n",
       "    <tr>\n",
       "      <th>0</th>\n",
       "      <td>000e78ad-abcf-45b5-bfa7-f1fc29321e5f</td>\n",
       "      <td>0</td>\n",
       "      <td>140.901</td>\n",
       "      <td>3408.570</td>\n",
       "      <td>4.133728</td>\n",
       "    </tr>\n",
       "    <tr>\n",
       "      <th>1</th>\n",
       "      <td>000e78ad-abcf-45b5-bfa7-f1fc29321e5f</td>\n",
       "      <td>1</td>\n",
       "      <td>1208.701</td>\n",
       "      <td>3408.570</td>\n",
       "      <td>35.460648</td>\n",
       "    </tr>\n",
       "    <tr>\n",
       "      <th>2</th>\n",
       "      <td>000e78ad-abcf-45b5-bfa7-f1fc29321e5f</td>\n",
       "      <td>2</td>\n",
       "      <td>121.704</td>\n",
       "      <td>3408.570</td>\n",
       "      <td>3.570530</td>\n",
       "    </tr>\n",
       "    <tr>\n",
       "      <th>3</th>\n",
       "      <td>000e78ad-abcf-45b5-bfa7-f1fc29321e5f</td>\n",
       "      <td>3</td>\n",
       "      <td>1937.264</td>\n",
       "      <td>3408.570</td>\n",
       "      <td>56.835095</td>\n",
       "    </tr>\n",
       "    <tr>\n",
       "      <th>4</th>\n",
       "      <td>000e78ad-abcf-45b5-bfa7-f1fc29321e5f</td>\n",
       "      <td>4</td>\n",
       "      <td>0.000</td>\n",
       "      <td>3408.570</td>\n",
       "      <td>0.000000</td>\n",
       "    </tr>\n",
       "    <tr>\n",
       "      <th>...</th>\n",
       "      <td>...</td>\n",
       "      <td>...</td>\n",
       "      <td>...</td>\n",
       "      <td>...</td>\n",
       "      <td>...</td>\n",
       "    </tr>\n",
       "    <tr>\n",
       "      <th>5460</th>\n",
       "      <td>ffbd72b0-6f15-4ce5-a561-a55e1f249280</td>\n",
       "      <td>0</td>\n",
       "      <td>94.365</td>\n",
       "      <td>4513.015</td>\n",
       "      <td>2.090953</td>\n",
       "    </tr>\n",
       "    <tr>\n",
       "      <th>5461</th>\n",
       "      <td>ffbd72b0-6f15-4ce5-a561-a55e1f249280</td>\n",
       "      <td>1</td>\n",
       "      <td>146.869</td>\n",
       "      <td>4513.015</td>\n",
       "      <td>3.254343</td>\n",
       "    </tr>\n",
       "    <tr>\n",
       "      <th>5462</th>\n",
       "      <td>ffbd72b0-6f15-4ce5-a561-a55e1f249280</td>\n",
       "      <td>2</td>\n",
       "      <td>1416.345</td>\n",
       "      <td>4513.015</td>\n",
       "      <td>31.383565</td>\n",
       "    </tr>\n",
       "    <tr>\n",
       "      <th>5463</th>\n",
       "      <td>ffbd72b0-6f15-4ce5-a561-a55e1f249280</td>\n",
       "      <td>3</td>\n",
       "      <td>2256.674</td>\n",
       "      <td>4513.015</td>\n",
       "      <td>50.003689</td>\n",
       "    </tr>\n",
       "    <tr>\n",
       "      <th>5464</th>\n",
       "      <td>ffbd72b0-6f15-4ce5-a561-a55e1f249280</td>\n",
       "      <td>4</td>\n",
       "      <td>598.762</td>\n",
       "      <td>4513.015</td>\n",
       "      <td>13.267450</td>\n",
       "    </tr>\n",
       "  </tbody>\n",
       "</table>\n",
       "<p>5465 rows × 5 columns</p>\n",
       "</div>"
      ],
      "text/plain": [
       "                            conversationId  pred_stage  time_diff_seconds_x  \\\n",
       "0     000e78ad-abcf-45b5-bfa7-f1fc29321e5f           0              140.901   \n",
       "1     000e78ad-abcf-45b5-bfa7-f1fc29321e5f           1             1208.701   \n",
       "2     000e78ad-abcf-45b5-bfa7-f1fc29321e5f           2              121.704   \n",
       "3     000e78ad-abcf-45b5-bfa7-f1fc29321e5f           3             1937.264   \n",
       "4     000e78ad-abcf-45b5-bfa7-f1fc29321e5f           4                0.000   \n",
       "...                                    ...         ...                  ...   \n",
       "5460  ffbd72b0-6f15-4ce5-a561-a55e1f249280           0               94.365   \n",
       "5461  ffbd72b0-6f15-4ce5-a561-a55e1f249280           1              146.869   \n",
       "5462  ffbd72b0-6f15-4ce5-a561-a55e1f249280           2             1416.345   \n",
       "5463  ffbd72b0-6f15-4ce5-a561-a55e1f249280           3             2256.674   \n",
       "5464  ffbd72b0-6f15-4ce5-a561-a55e1f249280           4              598.762   \n",
       "\n",
       "      time_diff_seconds_y  percentage  \n",
       "0                3408.570    4.133728  \n",
       "1                3408.570   35.460648  \n",
       "2                3408.570    3.570530  \n",
       "3                3408.570   56.835095  \n",
       "4                3408.570    0.000000  \n",
       "...                   ...         ...  \n",
       "5460             4513.015    2.090953  \n",
       "5461             4513.015    3.254343  \n",
       "5462             4513.015   31.383565  \n",
       "5463             4513.015   50.003689  \n",
       "5464             4513.015   13.267450  \n",
       "\n",
       "[5465 rows x 5 columns]"
      ]
     },
     "execution_count": 521,
     "metadata": {},
     "output_type": "execute_result"
    }
   ],
   "source": [
    "# sort conversations by ID and time. Then calculate time duration between each message\n",
    "df_msg_valid_final['time_diff'] = df_msg_valid_final.sort_values(by=['conversationId', 'datetime']).groupby('conversationId')['datetime'].diff().shift(-1)\n",
    "\n",
    "# convert time duration to seconds\n",
    "df_msg_valid_final['time_diff_seconds'] = df_msg_valid_final['time_diff'].dt.total_seconds()\n",
    "\n",
    "# sum up time duration of each stage within each conversation\n",
    "stage_durations = df_msg_valid_final.groupby(['conversationId', 'pred_stage'])['time_diff_seconds'].sum().reset_index()\n",
    "\n",
    "# calculate total time duration of each conversation\n",
    "total_durations = df_msg_valid_final.groupby('conversationId')['time_diff_seconds'].sum().reset_index()\n",
    "\n",
    "# merge conversation total time duration to dataframe\n",
    "stage_durations = stage_durations.merge(total_durations, on='conversationId')\n",
    "\n",
    "# calculate percentage of each stage within each conversation\n",
    "stage_durations['percentage'] = (stage_durations['time_diff_seconds_x'] / stage_durations['time_diff_seconds_y']) * 100\n",
    "\n",
    "stage_durations"
   ]
  },
  {
   "cell_type": "code",
   "execution_count": 547,
   "id": "2715aba5",
   "metadata": {},
   "outputs": [],
   "source": [
    "#Group by 'stage' and 'group' to calculate the mean and standard error for each group and stage\n",
    "grouped = stage_durations.groupby(['pred_stage'])['percentage'].agg(['mean', 'std', 'count'])\n",
    "grouped['se'] = grouped['std'] / np.sqrt(grouped['count'])"
   ]
  },
  {
   "cell_type": "code",
   "execution_count": 551,
   "id": "36a6028e",
   "metadata": {},
   "outputs": [
    {
     "data": {
      "text/plain": [
       "array([ 7.5, 20.2, 28.5, 46.6,  8.2])"
      ]
     },
     "execution_count": 551,
     "metadata": {},
     "output_type": "execute_result"
    }
   ],
   "source": [
    "np.round(grouped['mean'].tolist(),1)"
   ]
  },
  {
   "cell_type": "code",
   "execution_count": 549,
   "id": "5e151eb5",
   "metadata": {},
   "outputs": [
    {
     "data": {
      "text/plain": [
       "array([0.32, 0.52, 0.53, 0.55, 0.54])"
      ]
     },
     "execution_count": 549,
     "metadata": {},
     "output_type": "execute_result"
    }
   ],
   "source": [
    "np.round(grouped['se'].tolist(),2)"
   ]
  },
  {
   "cell_type": "code",
   "execution_count": 550,
   "id": "04c9bfdc",
   "metadata": {},
   "outputs": [],
   "source": [
    "stage_durations.to_excel('../data/time_allocation_each_chat_good.xlsx', index=False)"
   ]
  }
 ],
 "metadata": {
  "kernelspec": {
   "display_name": "venv",
   "language": "python",
   "name": "venv"
  },
  "language_info": {
   "codemirror_mode": {
    "name": "ipython",
    "version": 3
   },
   "file_extension": ".py",
   "mimetype": "text/x-python",
   "name": "python",
   "nbconvert_exporter": "python",
   "pygments_lexer": "ipython3",
   "version": "3.10.9"
  }
 },
 "nbformat": 4,
 "nbformat_minor": 5
}
